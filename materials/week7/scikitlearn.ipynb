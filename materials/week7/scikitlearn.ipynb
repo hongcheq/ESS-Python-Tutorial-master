{
 "cells": [
  {
   "cell_type": "markdown",
   "metadata": {},
   "source": [
    "# Scikit-Learn Examples feat. Pandas and Keras"
   ]
  },
  {
   "cell_type": "markdown",
   "metadata": {
    "ExecuteTime": {
     "end_time": "2018-05-14T19:03:18.305433Z",
     "start_time": "2018-05-14T19:03:16.471025Z"
    }
   },
   "source": [
    "## [1] Basic Linear Regression with Pandas and Scikit-Learn"
   ]
  },
  {
   "cell_type": "code",
   "execution_count": 1,
   "metadata": {
    "ExecuteTime": {
     "end_time": "2018-05-14T21:13:07.262260Z",
     "start_time": "2018-05-14T21:13:06.892616Z"
    }
   },
   "outputs": [],
   "source": [
    "import pandas as pd\n",
    "import matplotlib.pyplot as plt\n",
    "import numpy as np\n",
    "\n",
    "np.random.seed(123)"
   ]
  },
  {
   "cell_type": "markdown",
   "metadata": {},
   "source": [
    "#### Let's look at some volcano eruption data from http://volcano.si.edu/database/"
   ]
  },
  {
   "cell_type": "code",
   "execution_count": 2,
   "metadata": {
    "ExecuteTime": {
     "end_time": "2018-05-14T21:13:07.278214Z",
     "start_time": "2018-05-14T21:13:07.263988Z"
    }
   },
   "outputs": [],
   "source": [
    "df = pd.read_csv(\"GVP_Eruption_Results.csv\", header=0, encoding=\"ISO-8859-1\")"
   ]
  },
  {
   "cell_type": "code",
   "execution_count": 3,
   "metadata": {
    "ExecuteTime": {
     "end_time": "2018-05-14T21:13:07.295401Z",
     "start_time": "2018-05-14T21:13:07.279806Z"
    }
   },
   "outputs": [
    {
     "name": "stdout",
     "output_type": "stream",
     "text": [
      "n_records: 5160\n",
      "n_unique_volcanos: 502\n"
     ]
    },
    {
     "data": {
      "text/html": [
       "<div>\n",
       "<style scoped>\n",
       "    .dataframe tbody tr th:only-of-type {\n",
       "        vertical-align: middle;\n",
       "    }\n",
       "\n",
       "    .dataframe tbody tr th {\n",
       "        vertical-align: top;\n",
       "    }\n",
       "\n",
       "    .dataframe thead th {\n",
       "        text-align: right;\n",
       "    }\n",
       "</style>\n",
       "<table border=\"1\" class=\"dataframe\">\n",
       "  <thead>\n",
       "    <tr style=\"text-align: right;\">\n",
       "      <th></th>\n",
       "      <th>Volcano Number</th>\n",
       "      <th>Volcano Name</th>\n",
       "      <th>Eruption Number</th>\n",
       "      <th>Start Year</th>\n",
       "      <th>Start Month</th>\n",
       "      <th>Latitude</th>\n",
       "      <th>Longitude</th>\n",
       "    </tr>\n",
       "  </thead>\n",
       "  <tbody>\n",
       "    <tr>\n",
       "      <th>0</th>\n",
       "      <td>282090</td>\n",
       "      <td>Kirishimayama</td>\n",
       "      <td>22257</td>\n",
       "      <td>2018</td>\n",
       "      <td>3</td>\n",
       "      <td>31.934</td>\n",
       "      <td>130.862</td>\n",
       "    </tr>\n",
       "    <tr>\n",
       "      <th>1</th>\n",
       "      <td>352090</td>\n",
       "      <td>Sangay</td>\n",
       "      <td>22259</td>\n",
       "      <td>2018</td>\n",
       "      <td>2</td>\n",
       "      <td>-2.005</td>\n",
       "      <td>-78.341</td>\n",
       "    </tr>\n",
       "    <tr>\n",
       "      <th>2</th>\n",
       "      <td>267020</td>\n",
       "      <td>Karangetang</td>\n",
       "      <td>22256</td>\n",
       "      <td>2018</td>\n",
       "      <td>2</td>\n",
       "      <td>2.781</td>\n",
       "      <td>125.407</td>\n",
       "    </tr>\n",
       "    <tr>\n",
       "      <th>3</th>\n",
       "      <td>283120</td>\n",
       "      <td>Kusatsu-Shiranesan</td>\n",
       "      <td>22258</td>\n",
       "      <td>2018</td>\n",
       "      <td>1</td>\n",
       "      <td>36.618</td>\n",
       "      <td>138.528</td>\n",
       "    </tr>\n",
       "    <tr>\n",
       "      <th>4</th>\n",
       "      <td>343100</td>\n",
       "      <td>San Miguel</td>\n",
       "      <td>22251</td>\n",
       "      <td>2018</td>\n",
       "      <td>1</td>\n",
       "      <td>13.434</td>\n",
       "      <td>-88.269</td>\n",
       "    </tr>\n",
       "  </tbody>\n",
       "</table>\n",
       "</div>"
      ],
      "text/plain": [
       "   Volcano Number        Volcano Name  Eruption Number  Start Year  \\\n",
       "0          282090       Kirishimayama            22257        2018   \n",
       "1          352090              Sangay            22259        2018   \n",
       "2          267020         Karangetang            22256        2018   \n",
       "3          283120  Kusatsu-Shiranesan            22258        2018   \n",
       "4          343100          San Miguel            22251        2018   \n",
       "\n",
       "   Start Month  Latitude  Longitude  \n",
       "0            3    31.934    130.862  \n",
       "1            2    -2.005    -78.341  \n",
       "2            2     2.781    125.407  \n",
       "3            1    36.618    138.528  \n",
       "4            1    13.434    -88.269  "
      ]
     },
     "execution_count": 3,
     "metadata": {},
     "output_type": "execute_result"
    }
   ],
   "source": [
    "# Let's a get a broad sense of the data\n",
    "print('n_records:', len(df))\n",
    "print('n_unique_volcanos:', len(df['Volcano Name'].unique()))\n",
    "df.head()"
   ]
  },
  {
   "cell_type": "markdown",
   "metadata": {},
   "source": [
    "#### Let's look at the number of eruptions by year. It's pretty easy to plot."
   ]
  },
  {
   "cell_type": "code",
   "execution_count": 4,
   "metadata": {
    "ExecuteTime": {
     "end_time": "2018-05-14T21:13:07.557502Z",
     "start_time": "2018-05-14T21:13:07.296982Z"
    }
   },
   "outputs": [
    {
     "data": {
      "text/plain": [
       "<matplotlib.axes._subplots.AxesSubplot at 0x111e79ba8>"
      ]
     },
     "execution_count": 4,
     "metadata": {},
     "output_type": "execute_result"
    },
    {
     "data": {
      "image/png": "[encoded data removed]",
      "text/plain": [
       "<matplotlib.figure.Figure at 0x111e792b0>"
      ]
     },
     "metadata": {},
     "output_type": "display_data"
    }
   ],
   "source": [
    "df.groupby('Start Year').count().plot(legend=None)"
   ]
  },
  {
   "cell_type": "markdown",
   "metadata": {},
   "source": [
    "#### Hmmm... OK well it looks like volcanic eruption data just wasn't good until recently. Let's get just the last 100 years or so, and exclude this year since it's just started."
   ]
  },
  {
   "cell_type": "code",
   "execution_count": 5,
   "metadata": {
    "ExecuteTime": {
     "end_time": "2018-05-14T21:13:07.565019Z",
     "start_time": "2018-05-14T21:13:07.559512Z"
    }
   },
   "outputs": [
    {
     "name": "stdout",
     "output_type": "stream",
     "text": [
      "Volcano Number\n",
      "volcano_number\n",
      "\n",
      "Volcano Name\n",
      "volcano_name\n",
      "\n",
      "Eruption Number\n",
      "eruption_number\n",
      "\n",
      "Start Year\n",
      "start_year\n",
      "\n",
      "Start Month\n",
      "start_month\n",
      "\n",
      "Latitude\n",
      "latitude\n",
      "\n",
      "Longitude\n",
      "longitude\n",
      "\n"
     ]
    }
   ],
   "source": [
    "# Quick side-note, if we rename the columns to have no spaces, we can jupyter's convenient autocompletion feature\n",
    "old_cols = df.columns\n",
    "df.rename(columns=lambda x: x.lower().replace(' ', '_'), inplace=True)\n",
    "for i, col in enumerate(df.columns): print(old_cols[i], col, '', sep='\\n')"
   ]
  },
  {
   "cell_type": "code",
   "execution_count": 6,
   "metadata": {
    "ExecuteTime": {
     "end_time": "2018-05-14T21:13:07.581264Z",
     "start_time": "2018-05-14T21:13:07.567159Z"
    }
   },
   "outputs": [
    {
     "name": "stdout",
     "output_type": "stream",
     "text": [
      "n_records: 3089\n",
      "n_unique_volcanos: 389\n"
     ]
    },
    {
     "data": {
      "text/html": [
       "<div>\n",
       "<style scoped>\n",
       "    .dataframe tbody tr th:only-of-type {\n",
       "        vertical-align: middle;\n",
       "    }\n",
       "\n",
       "    .dataframe tbody tr th {\n",
       "        vertical-align: top;\n",
       "    }\n",
       "\n",
       "    .dataframe thead th {\n",
       "        text-align: right;\n",
       "    }\n",
       "</style>\n",
       "<table border=\"1\" class=\"dataframe\">\n",
       "  <thead>\n",
       "    <tr style=\"text-align: right;\">\n",
       "      <th></th>\n",
       "      <th>volcano_number</th>\n",
       "      <th>volcano_name</th>\n",
       "      <th>eruption_number</th>\n",
       "      <th>start_year</th>\n",
       "      <th>start_month</th>\n",
       "      <th>latitude</th>\n",
       "      <th>longitude</th>\n",
       "    </tr>\n",
       "  </thead>\n",
       "  <tbody>\n",
       "    <tr>\n",
       "      <th>7</th>\n",
       "      <td>272020</td>\n",
       "      <td>Kanlaon</td>\n",
       "      <td>22249</td>\n",
       "      <td>2017</td>\n",
       "      <td>12</td>\n",
       "      <td>10.412</td>\n",
       "      <td>123.132</td>\n",
       "    </tr>\n",
       "    <tr>\n",
       "      <th>8</th>\n",
       "      <td>264020</td>\n",
       "      <td>Agung</td>\n",
       "      <td>22241</td>\n",
       "      <td>2017</td>\n",
       "      <td>11</td>\n",
       "      <td>-8.343</td>\n",
       "      <td>115.508</td>\n",
       "    </tr>\n",
       "    <tr>\n",
       "      <th>9</th>\n",
       "      <td>261230</td>\n",
       "      <td>Dempo</td>\n",
       "      <td>22248</td>\n",
       "      <td>2017</td>\n",
       "      <td>11</td>\n",
       "      <td>-4.016</td>\n",
       "      <td>103.121</td>\n",
       "    </tr>\n",
       "    <tr>\n",
       "      <th>10</th>\n",
       "      <td>256010</td>\n",
       "      <td>Tinakula</td>\n",
       "      <td>22239</td>\n",
       "      <td>2017</td>\n",
       "      <td>10</td>\n",
       "      <td>-10.386</td>\n",
       "      <td>165.804</td>\n",
       "    </tr>\n",
       "    <tr>\n",
       "      <th>11</th>\n",
       "      <td>282090</td>\n",
       "      <td>Kirishimayama</td>\n",
       "      <td>22242</td>\n",
       "      <td>2017</td>\n",
       "      <td>10</td>\n",
       "      <td>31.934</td>\n",
       "      <td>130.862</td>\n",
       "    </tr>\n",
       "  </tbody>\n",
       "</table>\n",
       "</div>"
      ],
      "text/plain": [
       "    volcano_number   volcano_name  eruption_number  start_year  start_month  \\\n",
       "7           272020        Kanlaon            22249        2017           12   \n",
       "8           264020          Agung            22241        2017           11   \n",
       "9           261230          Dempo            22248        2017           11   \n",
       "10          256010       Tinakula            22239        2017           10   \n",
       "11          282090  Kirishimayama            22242        2017           10   \n",
       "\n",
       "    latitude  longitude  \n",
       "7     10.412    123.132  \n",
       "8     -8.343    115.508  \n",
       "9     -4.016    103.121  \n",
       "10   -10.386    165.804  \n",
       "11    31.934    130.862  "
      ]
     },
     "execution_count": 6,
     "metadata": {},
     "output_type": "execute_result"
    }
   ],
   "source": [
    "# Subset the data into a new dataframe\n",
    "recent_df = df[(df.start_year > 1918) & (df.start_year < 2018)]\n",
    "print('n_records:', len(recent_df))\n",
    "print('n_unique_volcanos:', len(recent_df.volcano_name.unique()))\n",
    "recent_df.head()"
   ]
  },
  {
   "cell_type": "code",
   "execution_count": 7,
   "metadata": {
    "ExecuteTime": {
     "end_time": "2018-05-14T21:13:07.735734Z",
     "start_time": "2018-05-14T21:13:07.582907Z"
    }
   },
   "outputs": [
    {
     "data": {
      "text/plain": [
       "<matplotlib.axes._subplots.AxesSubplot at 0x111ecfc50>"
      ]
     },
     "execution_count": 7,
     "metadata": {},
     "output_type": "execute_result"
    },
    {
     "data": {
      "image/png": "[encoded data removed]",
      "text/plain": [
       "<matplotlib.figure.Figure at 0x10c8e7908>"
      ]
     },
     "metadata": {},
     "output_type": "display_data"
    }
   ],
   "source": [
    "recent_df.groupby('start_year').count().plot(legend=None)"
   ]
  },
  {
   "cell_type": "markdown",
   "metadata": {},
   "source": [
    "#### This is better, but recording data still probably improved in the 1950's. Still, let's just use this anyway for a simple linear regression to predict the next 10 years or so."
   ]
  },
  {
   "cell_type": "code",
   "execution_count": 8,
   "metadata": {
    "ExecuteTime": {
     "end_time": "2018-05-14T21:13:07.748014Z",
     "start_time": "2018-05-14T21:13:07.737875Z"
    }
   },
   "outputs": [
    {
     "data": {
      "text/html": [
       "<div>\n",
       "<style scoped>\n",
       "    .dataframe tbody tr th:only-of-type {\n",
       "        vertical-align: middle;\n",
       "    }\n",
       "\n",
       "    .dataframe tbody tr th {\n",
       "        vertical-align: top;\n",
       "    }\n",
       "\n",
       "    .dataframe thead th {\n",
       "        text-align: right;\n",
       "    }\n",
       "</style>\n",
       "<table border=\"1\" class=\"dataframe\">\n",
       "  <thead>\n",
       "    <tr style=\"text-align: right;\">\n",
       "      <th></th>\n",
       "      <th>year</th>\n",
       "      <th>n_eruptions</th>\n",
       "    </tr>\n",
       "  </thead>\n",
       "  <tbody>\n",
       "    <tr>\n",
       "      <th>0</th>\n",
       "      <td>2004</td>\n",
       "      <td>49</td>\n",
       "    </tr>\n",
       "    <tr>\n",
       "      <th>1</th>\n",
       "      <td>2008</td>\n",
       "      <td>48</td>\n",
       "    </tr>\n",
       "    <tr>\n",
       "      <th>2</th>\n",
       "      <td>2005</td>\n",
       "      <td>47</td>\n",
       "    </tr>\n",
       "    <tr>\n",
       "      <th>3</th>\n",
       "      <td>2006</td>\n",
       "      <td>45</td>\n",
       "    </tr>\n",
       "    <tr>\n",
       "      <th>4</th>\n",
       "      <td>2002</td>\n",
       "      <td>44</td>\n",
       "    </tr>\n",
       "  </tbody>\n",
       "</table>\n",
       "</div>"
      ],
      "text/plain": [
       "   year  n_eruptions\n",
       "0  2004           49\n",
       "1  2008           48\n",
       "2  2005           47\n",
       "3  2006           45\n",
       "4  2002           44"
      ]
     },
     "execution_count": 8,
     "metadata": {},
     "output_type": "execute_result"
    }
   ],
   "source": [
    "# Let's just make a quick dataframe that is just the years with their value counts\n",
    "regdf = pd.DataFrame(recent_df.start_year.value_counts()).reset_index()\n",
    "regdf.columns = ['year', 'n_eruptions']\n",
    "regdf.head()"
   ]
  },
  {
   "cell_type": "code",
   "execution_count": 9,
   "metadata": {
    "ExecuteTime": {
     "end_time": "2018-05-14T21:13:08.154188Z",
     "start_time": "2018-05-14T21:13:07.749472Z"
    }
   },
   "outputs": [
    {
     "data": {
      "image/png": "[encoded data removed]",
      "text/plain": [
       "<matplotlib.figure.Figure at 0x10d5c8828>"
      ]
     },
     "metadata": {},
     "output_type": "display_data"
    }
   ],
   "source": [
    "from sklearn import linear_model\n",
    "x = regdf.year.values.reshape(-1, 1)\n",
    "y = regdf.n_eruptions.values.reshape(-1, 1)\n",
    "\n",
    "reg = linear_model.LinearRegression()\n",
    "reg.fit(x, y)\n",
    "year_range = np.arange(x.min(), 2031, 1).reshape(-1, 1)\n",
    "\n",
    "plt.scatter(x, y, s=7)\n",
    "plt.plot(year_range, reg.predict(year_range), color='blue', linewidth=3)\n",
    "plt.show()"
   ]
  },
  {
   "cell_type": "markdown",
   "metadata": {
    "ExecuteTime": {
     "end_time": "2018-05-14T19:03:18.305433Z",
     "start_time": "2018-05-14T19:03:16.471025Z"
    }
   },
   "source": [
    "## [2] Basic K-Nearest Neighbors with Pandas and Scikit-Learn"
   ]
  },
  {
   "cell_type": "markdown",
   "metadata": {},
   "source": [
    "#### Let's use the basic Iris dataset to illustrate KNN. This code is based off of the KNN example at http://scikit-learn.org"
   ]
  },
  {
   "cell_type": "code",
   "execution_count": 10,
   "metadata": {
    "ExecuteTime": {
     "end_time": "2018-05-14T21:13:08.182641Z",
     "start_time": "2018-05-14T21:13:08.156579Z"
    }
   },
   "outputs": [],
   "source": [
    "from sklearn import neighbors, datasets\n",
    "from matplotlib.colors import ListedColormap"
   ]
  },
  {
   "cell_type": "code",
   "execution_count": 11,
   "metadata": {
    "ExecuteTime": {
     "end_time": "2018-05-14T21:13:08.191980Z",
     "start_time": "2018-05-14T21:13:08.184624Z"
    }
   },
   "outputs": [],
   "source": [
    "# import iris dataset\n",
    "iris = datasets.load_iris()\n",
    "\n",
    "# let's only use the first two features, sepal length and sepal width\n",
    "x = iris.data[:, :2]\n",
    "y = iris.target"
   ]
  },
  {
   "cell_type": "code",
   "execution_count": 12,
   "metadata": {
    "ExecuteTime": {
     "end_time": "2018-05-14T21:13:08.198976Z",
     "start_time": "2018-05-14T21:13:08.194174Z"
    }
   },
   "outputs": [],
   "source": [
    "# Create an instance of Neighbours Classifier and fit the data.\n",
    "clf = neighbors.KNeighborsClassifier(n_neighbors=15, weights='uniform')\n",
    "clf.fit(x, y);"
   ]
  },
  {
   "cell_type": "code",
   "execution_count": 13,
   "metadata": {
    "ExecuteTime": {
     "end_time": "2018-05-14T21:13:08.318815Z",
     "start_time": "2018-05-14T21:13:08.201131Z"
    }
   },
   "outputs": [
    {
     "data": {
      "image/png": "[encoded data removed]",
      "text/plain": [
       "<matplotlib.figure.Figure at 0x10d608550>"
      ]
     },
     "metadata": {},
     "output_type": "display_data"
    }
   ],
   "source": [
    "# Plot the decision boundary\n",
    "xx, yy = np.meshgrid(np.arange(x[:, 0].min(), x[:, 0].max()+0.2, 0.2),\n",
    "                     np.arange(x[:, 1].min(), x[:, 1].max()+0.2, 0.2))\n",
    "z = clf.predict(np.c_[xx.ravel(), yy.ravel()])\n",
    "z = z.reshape(xx.shape)\n",
    "plt.figure()\n",
    "plt.pcolormesh(xx, yy, z, cmap=ListedColormap(['#FFAAAA', '#AAFFAA', '#AAAAFF']))\n",
    "plt.scatter(x[:, 0], x[:, 1], c=y, edgecolor='k', s=20, cmap=ListedColormap(['#FF0000', '#00FF00', '#0000FF']))\n",
    "plt.show()"
   ]
  },
  {
   "cell_type": "markdown",
   "metadata": {
    "ExecuteTime": {
     "end_time": "2018-05-14T19:03:18.305433Z",
     "start_time": "2018-05-14T19:03:16.471025Z"
    }
   },
   "source": [
    "## [3] Flow chart of Good Scikit-Learn Functions to Use Based on Data:"
   ]
  },
  {
   "cell_type": "markdown",
   "metadata": {},
   "source": [
    "http://scikit-learn.org/stable/tutorial/machine_learning_map/index.html"
   ]
  },
  {
   "cell_type": "markdown",
   "metadata": {
    "ExecuteTime": {
     "end_time": "2018-05-14T19:03:18.305433Z",
     "start_time": "2018-05-14T19:03:16.471025Z"
    }
   },
   "source": [
    "## [4] Performing a K-Fold Cross-Validation on a Keras Neural Network"
   ]
  },
  {
   "cell_type": "markdown",
   "metadata": {},
   "source": [
    "Based on code at: https://machinelearningmastery.com/use-keras-deep-learning-models-scikit-learn-python/"
   ]
  },
  {
   "cell_type": "markdown",
   "metadata": {},
   "source": [
    "#### Sometimes we might want to cross-validate our neural network model.  Scikit-learn has a super convenient classes to help do exactly that."
   ]
  },
  {
   "cell_type": "code",
   "execution_count": 14,
   "metadata": {
    "ExecuteTime": {
     "end_time": "2018-05-14T21:13:09.437620Z",
     "start_time": "2018-05-14T21:13:08.320687Z"
    }
   },
   "outputs": [
    {
     "name": "stderr",
     "output_type": "stream",
     "text": [
      "Using TensorFlow backend.\n"
     ]
    }
   ],
   "source": [
    "from keras.models import Sequential\n",
    "from keras.layers import Dense\n",
    "from keras.wrappers.scikit_learn import KerasClassifier\n",
    "from sklearn.model_selection import StratifiedKFold\n",
    "from sklearn.model_selection import cross_val_score"
   ]
  },
  {
   "cell_type": "code",
   "execution_count": 15,
   "metadata": {
    "ExecuteTime": {
     "end_time": "2018-05-14T21:13:09.454251Z",
     "start_time": "2018-05-14T21:13:09.439488Z"
    }
   },
   "outputs": [],
   "source": [
    "# Dataset is based on health data for Pima Indian population with diabetes\n",
    "dataset = np.loadtxt(\"pimadata.csv\", delimiter=\",\")\n",
    "\n",
    "# Split into input (X) and output (Y) variables\n",
    "X = dataset[:,0:8]\n",
    "Y = dataset[:,8]"
   ]
  },
  {
   "cell_type": "code",
   "execution_count": 16,
   "metadata": {
    "ExecuteTime": {
     "end_time": "2018-05-14T21:13:09.461808Z",
     "start_time": "2018-05-14T21:13:09.456083Z"
    }
   },
   "outputs": [],
   "source": [
    "# Define your neural network model as a function\n",
    "def create_model():\n",
    "    model = Sequential()\n",
    "    model.add(Dense(12, input_dim=8, activation='relu'))\n",
    "    model.add(Dense(8, activation='relu'))\n",
    "    model.add(Dense(1, activation='sigmoid'))\n",
    "    model.compile(loss='binary_crossentropy', optimizer='adam', metrics=['accuracy'])\n",
    "    return model"
   ]
  },
  {
   "cell_type": "code",
   "execution_count": 17,
   "metadata": {
    "ExecuteTime": {
     "end_time": "2018-05-14T21:13:09.466444Z",
     "start_time": "2018-05-14T21:13:09.463561Z"
    }
   },
   "outputs": [],
   "source": [
    "# Create a KerasClassifier model using your model definition function as an argument\n",
    "model = KerasClassifier(build_fn=create_model, epochs=10, batch_size=10, verbose=0)"
   ]
  },
  {
   "cell_type": "code",
   "execution_count": 18,
   "metadata": {
    "ExecuteTime": {
     "end_time": "2018-05-14T21:13:28.224716Z",
     "start_time": "2018-05-14T21:13:09.467801Z"
    }
   },
   "outputs": [],
   "source": [
    "# Evaluate your model using 10-fold cross validation\n",
    "kfold = StratifiedKFold(n_splits=10, shuffle=True)\n",
    "results = cross_val_score(model, X, Y, cv=kfold)"
   ]
  },
  {
   "cell_type": "code",
   "execution_count": 19,
   "metadata": {
    "ExecuteTime": {
     "end_time": "2018-05-14T21:13:28.231859Z",
     "start_time": "2018-05-14T21:13:28.226450Z"
    }
   },
   "outputs": [
    {
     "name": "stdout",
     "output_type": "stream",
     "text": [
      "10-fold cross validation scores:\n",
      "\t 0.519\n",
      "\t 0.636\n",
      "\t 0.649\n",
      "\t 0.688\n",
      "\t 0.727\n",
      "\t 0.636\n",
      "\t 0.688\n",
      "\t 0.662\n",
      "\t 0.592\n",
      "\t 0.632\n",
      "\n",
      "mean: 0.643\n"
     ]
    }
   ],
   "source": [
    "# Print the results\n",
    "print(f'10-fold cross validation scores:')\n",
    "for result in results: print('\\t', result.round(3))\n",
    "print('', f'mean: {results.mean().round(3)}', sep='\\n')"
   ]
  },
  {
   "cell_type": "markdown",
   "metadata": {
    "ExecuteTime": {
     "end_time": "2018-05-14T19:03:18.305433Z",
     "start_time": "2018-05-14T19:03:16.471025Z"
    }
   },
   "source": [
    "## [5] Keras Neural Network Hyperparameter Searching with GridSearchCV:"
   ]
  },
  {
   "cell_type": "markdown",
   "metadata": {},
   "source": [
    "Based on code at: https://machinelearningmastery.com/grid-search-hyperparameters-deep-learning-models-python-keras/"
   ]
  },
  {
   "cell_type": "markdown",
   "metadata": {},
   "source": [
    "#### Sometimes we want to perform a hyperparameter search for our neural network.  Again to the rescue, Scikit-Learn has a class for that."
   ]
  },
  {
   "cell_type": "code",
   "execution_count": 20,
   "metadata": {
    "ExecuteTime": {
     "end_time": "2018-05-14T21:13:28.235818Z",
     "start_time": "2018-05-14T21:13:28.233346Z"
    }
   },
   "outputs": [],
   "source": [
    "from sklearn.model_selection import GridSearchCV"
   ]
  },
  {
   "cell_type": "markdown",
   "metadata": {},
   "source": [
    "#### Let's do a grid search for the best results for combinations of epochs and batch sizes"
   ]
  },
  {
   "cell_type": "code",
   "execution_count": 21,
   "metadata": {
    "ExecuteTime": {
     "end_time": "2018-05-14T21:13:28.244724Z",
     "start_time": "2018-05-14T21:13:28.237567Z"
    },
    "code_folding": []
   },
   "outputs": [],
   "source": [
    "# Step 1: Define a function to create model (required for KerasClassifier)\n",
    "def create_model_1():\n",
    "    # create\n",
    "    model = Sequential()\n",
    "    # define\n",
    "    model.add(Dense(12, input_dim=8, activation='relu'))\n",
    "    model.add(Dense(1, activation='sigmoid'))\n",
    "    # compile\n",
    "    model.compile(loss='binary_crossentropy', optimizer='adam', metrics=['accuracy'])\n",
    "    #return\n",
    "    return model"
   ]
  },
  {
   "cell_type": "code",
   "execution_count": 22,
   "metadata": {
    "ExecuteTime": {
     "end_time": "2018-05-14T21:13:28.249005Z",
     "start_time": "2018-05-14T21:13:28.246576Z"
    }
   },
   "outputs": [],
   "source": [
    "# Step 2: Create the model\n",
    "\n",
    "# We don't include epochs and batch size during the model creation process because that's what we're searching\n",
    "model_1 = KerasClassifier(build_fn=create_model_1, verbose=0)"
   ]
  },
  {
   "cell_type": "code",
   "execution_count": 23,
   "metadata": {
    "ExecuteTime": {
     "end_time": "2018-05-14T21:13:28.253661Z",
     "start_time": "2018-05-14T21:13:28.250393Z"
    }
   },
   "outputs": [
    {
     "name": "stdout",
     "output_type": "stream",
     "text": [
      "{'batch_size': [10, 40, 80], 'epochs': [10, 50]}\n"
     ]
    }
   ],
   "source": [
    "# Step 3: Define the grid search parameters\n",
    "param_grid_1 = dict(batch_size=[10, 40, 80], epochs=[10, 50])\n",
    "print(param_grid_1)"
   ]
  },
  {
   "cell_type": "code",
   "execution_count": 24,
   "metadata": {
    "ExecuteTime": {
     "end_time": "2018-05-14T21:14:09.565380Z",
     "start_time": "2018-05-14T21:13:28.255318Z"
    }
   },
   "outputs": [],
   "source": [
    "# Step 4: Perform the grid search\n",
    "grid_1 = GridSearchCV(estimator=model_1, param_grid=param_grid_1, n_jobs=1)\n",
    "grid_result_1 = grid_1.fit(X, Y)"
   ]
  },
  {
   "cell_type": "code",
   "execution_count": 25,
   "metadata": {
    "ExecuteTime": {
     "end_time": "2018-05-14T21:14:09.576652Z",
     "start_time": "2018-05-14T21:14:09.567084Z"
    },
    "code_folding": [
     1
    ]
   },
   "outputs": [
    {
     "name": "stdout",
     "output_type": "stream",
     "text": [
      "Results\n",
      "{'batch_size': 10, 'epochs': 10} -- 0.626\n",
      "{'batch_size': 10, 'epochs': 50} -- 0.549\n",
      "{'batch_size': 40, 'epochs': 10} -- 0.633\n",
      "{'batch_size': 40, 'epochs': 50} -- 0.654\n",
      "{'batch_size': 80, 'epochs': 10} -- 0.635\n",
      "{'batch_size': 80, 'epochs': 50} -- 0.656\n",
      "\n",
      "Best: 0.656 using {'batch_size': 80, 'epochs': 50}\n"
     ]
    }
   ],
   "source": [
    "# Step 5: Summarize the results\n",
    "def summarize_results(grid_result):\n",
    "    means = grid_result.cv_results_['mean_test_score']\n",
    "    params = grid_result.cv_results_['params']\n",
    "    print('Results')\n",
    "    for mean, param in zip(means, params):\n",
    "        print(f'{param} -- {mean.round(3)}')\n",
    "    print('')\n",
    "    print(f'Best: {grid_result.best_score_.round(3)} using {grid_result.best_params_}')\n",
    "summarize_results(grid_result_1)"
   ]
  },
  {
   "cell_type": "markdown",
   "metadata": {},
   "source": [
    "#### OK, let's do the same thing again, but this time let's try the difference between different optimizers"
   ]
  },
  {
   "cell_type": "code",
   "execution_count": 26,
   "metadata": {
    "ExecuteTime": {
     "end_time": "2018-05-14T21:14:09.583264Z",
     "start_time": "2018-05-14T21:14:09.578050Z"
    }
   },
   "outputs": [],
   "source": [
    "# Step 1: Define a function to create model (required for KerasClassifier)\n",
    "\n",
    "# This time the parameter we are searching for is in the model definition, \n",
    "# so we have to include it as an argument (\"optimizer\")\n",
    "def create_model_2(optimizer='Adam'):\n",
    "    model = Sequential()\n",
    "    model.add(Dense(12, input_dim=8, activation='relu'))\n",
    "    model.add(Dense(1, activation='sigmoid'))\n",
    "    model.compile(loss='binary_crossentropy', optimizer=optimizer, metrics=['accuracy'])\n",
    "    return model"
   ]
  },
  {
   "cell_type": "code",
   "execution_count": 27,
   "metadata": {
    "ExecuteTime": {
     "end_time": "2018-05-14T21:14:09.587850Z",
     "start_time": "2018-05-14T21:14:09.584880Z"
    }
   },
   "outputs": [],
   "source": [
    "# Step 2: Create the model\n",
    "\n",
    "# We're not searching for epoch or batch size, so we have to include values for them\n",
    "model_2 = KerasClassifier(build_fn=create_model_2, epochs=2, batch_size=40, verbose=0)"
   ]
  },
  {
   "cell_type": "code",
   "execution_count": 28,
   "metadata": {
    "ExecuteTime": {
     "end_time": "2018-05-14T21:14:09.591954Z",
     "start_time": "2018-05-14T21:14:09.589568Z"
    }
   },
   "outputs": [],
   "source": [
    "# Step 3: Define the grid search parameters\n",
    "param_grid_2 = dict(optimizer=['SGD', 'Adam', 'RMSprop'])"
   ]
  },
  {
   "cell_type": "code",
   "execution_count": 29,
   "metadata": {
    "ExecuteTime": {
     "end_time": "2018-05-14T21:14:24.129511Z",
     "start_time": "2018-05-14T21:14:09.593702Z"
    }
   },
   "outputs": [],
   "source": [
    "# Step 4: Perform the grid search\n",
    "grid_2 = GridSearchCV(estimator=model_2, param_grid=param_grid_2, n_jobs=1)\n",
    "grid_result_2 = grid_2.fit(X, Y)"
   ]
  },
  {
   "cell_type": "code",
   "execution_count": 30,
   "metadata": {
    "ExecuteTime": {
     "end_time": "2018-05-14T21:14:24.134159Z",
     "start_time": "2018-05-14T21:14:24.131153Z"
    }
   },
   "outputs": [
    {
     "name": "stdout",
     "output_type": "stream",
     "text": [
      "Results\n",
      "{'optimizer': 'SGD'} -- 0.635\n",
      "{'optimizer': 'Adam'} -- 0.579\n",
      "{'optimizer': 'RMSprop'} -- 0.576\n",
      "\n",
      "Best: 0.635 using {'optimizer': 'SGD'}\n"
     ]
    }
   ],
   "source": [
    "# Step 5: Summarize the results\n",
    "summarize_results(grid_result_2)"
   ]
  },
  {
   "cell_type": "markdown",
   "metadata": {},
   "source": [
    "#### We can do this for pretty much any set of parameters, like weight initializations or anything else"
   ]
  },
  {
   "cell_type": "code",
   "execution_count": 31,
   "metadata": {
    "ExecuteTime": {
     "end_time": "2018-05-14T21:14:24.141603Z",
     "start_time": "2018-05-14T21:14:24.135910Z"
    }
   },
   "outputs": [],
   "source": [
    "# Step 1\n",
    "def create_model_3(init_mode='uniform'):\n",
    "    model = Sequential()\n",
    "    model.add(Dense(12, input_dim=8, kernel_initializer=init_mode, activation='relu'))\n",
    "    model.add(Dense(1, kernel_initializer=init_mode, activation='sigmoid'))\n",
    "    model.compile(loss='binary_crossentropy', optimizer='adam', metrics=['accuracy'])\n",
    "    return model"
   ]
  },
  {
   "cell_type": "code",
   "execution_count": 32,
   "metadata": {
    "ExecuteTime": {
     "end_time": "2018-05-14T21:14:24.146554Z",
     "start_time": "2018-05-14T21:14:24.143960Z"
    }
   },
   "outputs": [],
   "source": [
    "# Step 2\n",
    "model_3 = KerasClassifier(build_fn=create_model_3, epochs=2, batch_size=40, verbose=0)"
   ]
  },
  {
   "cell_type": "code",
   "execution_count": 33,
   "metadata": {
    "ExecuteTime": {
     "end_time": "2018-05-14T21:14:24.150951Z",
     "start_time": "2018-05-14T21:14:24.148346Z"
    }
   },
   "outputs": [],
   "source": [
    "# Step 3\n",
    "param_grid_3 = dict(init_mode=['uniform', 'normal', 'zero'])"
   ]
  },
  {
   "cell_type": "code",
   "execution_count": 34,
   "metadata": {
    "ExecuteTime": {
     "end_time": "2018-05-14T21:14:42.131095Z",
     "start_time": "2018-05-14T21:14:24.152286Z"
    }
   },
   "outputs": [],
   "source": [
    "# Step 4\n",
    "grid_3 = GridSearchCV(estimator=model_3, param_grid=param_grid_3, n_jobs=1)\n",
    "grid_result_3 = grid_3.fit(X, Y)"
   ]
  },
  {
   "cell_type": "code",
   "execution_count": 35,
   "metadata": {
    "ExecuteTime": {
     "end_time": "2018-05-14T21:14:42.135366Z",
     "start_time": "2018-05-14T21:14:42.132685Z"
    }
   },
   "outputs": [
    {
     "name": "stdout",
     "output_type": "stream",
     "text": [
      "Results\n",
      "{'init_mode': 'uniform'} -- 0.651\n",
      "{'init_mode': 'normal'} -- 0.652\n",
      "{'init_mode': 'zero'} -- 0.651\n",
      "\n",
      "Best: 0.652 using {'init_mode': 'normal'}\n"
     ]
    }
   ],
   "source": [
    "# Step 5\n",
    "summarize_results(grid_result_3)"
   ]
  },
  {
   "cell_type": "code",
   "execution_count": null,
   "metadata": {},
   "outputs": [],
   "source": []
  }
 ],
 "metadata": {
  "kernelspec": {
   "display_name": "Python 3",
   "language": "python",
   "name": "python3"
  },
  "language_info": {
   "codemirror_mode": {
    "name": "ipython",
    "version": 3
   },
   "file_extension": ".py",
   "mimetype": "text/x-python",
   "name": "python",
   "nbconvert_exporter": "python",
   "pygments_lexer": "ipython3",
   "version": "3.6.4"
  }
 },
 "nbformat": 4,
 "nbformat_minor": 2
}
