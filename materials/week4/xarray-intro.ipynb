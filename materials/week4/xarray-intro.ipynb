{
 "cells": [
  {
   "cell_type": "markdown",
   "metadata": {},
   "source": [
    "# xarray Introduction\n",
    "\n",
    "*Installation*\n",
    "To install xarray, we can simply use Anaconda, but we have to separately install the NetCDF4 Python library.\n",
    "```\n",
    "conda install xarray\n",
    "conda install netcdf4\n",
    "```\n",
    "\n",
    "**What is xarray?**\n",
    "xarray is a Python library for handling multi-dimensional arrays with coordinates. It is based on the NetCDF data format, but can also read and write other formats.\n",
    "\n",
    "This notebook just serves as a first introduction, for more check out the examples in the documentation: http://xarray.pydata.org/en/stable/examples.html"
   ]
  },
  {
   "cell_type": "code",
   "execution_count": 1,
   "metadata": {
    "ExecuteTime": {
     "end_time": "2018-03-21T20:41:02.715986Z",
     "start_time": "2018-03-21T20:41:02.598243Z"
    }
   },
   "outputs": [],
   "source": [
    "import xarray as xr\n",
    "import numpy as np\n",
    "import matplotlib.pyplot as plt\n",
    "%matplotlib inline\n",
    "import cartopy\n",
    "\n",
    "import pandas"
   ]
  },
  {
   "cell_type": "markdown",
   "metadata": {},
   "source": [
    "## Opening a files as a dataset\n",
    "\n",
    "xarray has two basic objects: Datasets and DataArrays. Datasets contain multiple variables (e.g. temperature, humidity, etc.) while DataArrays just contain one variables. Datasets therefore are a combination of multiple DataArrays."
   ]
  },
  {
   "cell_type": "code",
   "execution_count": 3,
   "metadata": {
    "ExecuteTime": {
     "end_time": "2018-03-21T20:08:30.089639Z",
     "start_time": "2018-03-21T20:08:29.954661Z"
    }
   },
   "outputs": [],
   "source": [
    "ds = xr.open_dataset('CAM01.nc', decode_times=False)"
   ]
  },
  {
   "cell_type": "markdown",
   "metadata": {},
   "source": [
    "Because this file does not have correctly encoded times, we use the `decode_times=False` option. Whenever you see an error or a warning about `unable to decode time axis`, just use this option!"
   ]
  },
  {
   "cell_type": "code",
   "execution_count": 4,
   "metadata": {
    "ExecuteTime": {
     "end_time": "2018-03-21T20:10:32.380965Z",
     "start_time": "2018-03-21T20:10:32.351261Z"
    }
   },
   "outputs": [
    {
     "data": {
      "text/plain": [
       "<xarray.Dataset>\n",
       "Dimensions:  (lat: 64, lev: 30, lon: 128, time: 24)\n",
       "Coordinates:\n",
       "  * lat      (lat) float64 -87.86 -85.1 -82.31 -79.53 ... 79.53 82.31 85.1 87.86\n",
       "  * lon      (lon) float64 0.0 2.812 5.625 8.438 ... 348.8 351.6 354.4 357.2\n",
       "  * lev      (lev) float64 3.643 7.595 14.36 24.61 ... 936.2 957.5 976.3 992.6\n",
       "  * time     (time) float64 0.0 0.04167 0.08333 0.125 ... 0.875 0.9167 0.9583\n",
       "Data variables:\n",
       "    TAP      (time, lev, lat, lon) float32 ...\n",
       "    SOLIN    (time, lat, lon) float32 ..."
      ]
     },
     "execution_count": 4,
     "metadata": {},
     "output_type": "execute_result"
    }
   ],
   "source": [
    "ds"
   ]
  },
  {
   "cell_type": "markdown",
   "metadata": {},
   "source": [
    "Datasets have dimensions, each of which comes with a coordinate array, specifying for example the longitude. Datasets also have one or more data variables. In our case we have TAP (Temperature), which has 4 dimensions, and SOLIN (incoming solar radiation) which has 3 dimensions.\n",
    "\n",
    "We can grab one of these variables like so:"
   ]
  },
  {
   "cell_type": "code",
   "execution_count": 6,
   "metadata": {
    "ExecuteTime": {
     "end_time": "2018-03-21T20:11:13.432934Z",
     "start_time": "2018-03-21T20:11:13.420383Z"
    }
   },
   "outputs": [
    {
     "data": {
      "text/plain": [
       "<xarray.DataArray 'TAP' (time: 24, lev: 30, lat: 64, lon: 128)>\n",
       "[5898240 values with dtype=float32]\n",
       "Coordinates:\n",
       "  * lat      (lat) float64 -87.86 -85.1 -82.31 -79.53 -76.74 -73.95 -71.16 ...\n",
       "  * lon      (lon) float64 0.0 2.812 5.625 8.438 11.25 14.06 16.88 19.69 ...\n",
       "  * lev      (lev) float64 3.643 7.595 14.36 24.61 38.27 54.6 72.01 87.82 ...\n",
       "  * time     (time) float64 0.0 0.04167 0.08333 0.125 0.1667 0.2083 0.25 ...\n",
       "Attributes:\n",
       "    units:      K\n",
       "    long_name:  T after physics"
      ]
     },
     "execution_count": 6,
     "metadata": {},
     "output_type": "execute_result"
    }
   ],
   "source": [
    "TAP = ds['TAP']; TAP"
   ]
  },
  {
   "cell_type": "markdown",
   "metadata": {},
   "source": [
    "This is now a DataArray. As you can see it also has coordinates and dimensions, and additionally attributes such as units.\n",
    "\n",
    "The coordinate arrays themselves are also DataArrays."
   ]
  },
  {
   "cell_type": "code",
   "execution_count": 7,
   "metadata": {
    "ExecuteTime": {
     "end_time": "2018-03-21T20:11:47.941619Z",
     "start_time": "2018-03-21T20:11:47.928972Z"
    }
   },
   "outputs": [
    {
     "data": {
      "text/plain": [
       "<xarray.DataArray 'lat' (lat: 64)>\n",
       "array([-87.863799, -85.096527, -82.312913, -79.525607, -76.7369  , -73.947515,\n",
       "       -71.157752, -68.367756, -65.577607, -62.787352, -59.99702 , -57.206632,\n",
       "       -54.4162  , -51.625734, -48.835241, -46.044727, -43.254195, -40.463648,\n",
       "       -37.67309 , -34.882521, -32.091944, -29.30136 , -26.510769, -23.720174,\n",
       "       -20.929574, -18.138971, -15.348365, -12.557756,  -9.767146,  -6.976534,\n",
       "        -4.185921,  -1.395307,   1.395307,   4.185921,   6.976534,   9.767146,\n",
       "        12.557756,  15.348365,  18.138971,  20.929574,  23.720174,  26.510769,\n",
       "        29.30136 ,  32.091944,  34.882521,  37.67309 ,  40.463648,  43.254195,\n",
       "        46.044727,  48.835241,  51.625734,  54.4162  ,  57.206632,  59.99702 ,\n",
       "        62.787352,  65.577607,  68.367756,  71.157752,  73.947515,  76.7369  ,\n",
       "        79.525607,  82.312913,  85.096527,  87.863799])\n",
       "Coordinates:\n",
       "  * lat      (lat) float64 -87.86 -85.1 -82.31 -79.53 -76.74 -73.95 -71.16 ...\n",
       "Attributes:\n",
       "    long_name:  latitude\n",
       "    units:      degrees_north"
      ]
     },
     "execution_count": 7,
     "metadata": {},
     "output_type": "execute_result"
    }
   ],
   "source": [
    "TAP.lat"
   ]
  },
  {
   "cell_type": "markdown",
   "metadata": {},
   "source": [
    "One thing to notice is that the values of the variable DataArrays are not actually loaded into RAM. Only when we do computations with them or index into them (see below) are the values actually read from disk. This is called lazy computing and preserves memory.\n",
    "\n",
    "It is possible to load all values into RAM by just typing `.load`"
   ]
  },
  {
   "cell_type": "code",
   "execution_count": 9,
   "metadata": {
    "ExecuteTime": {
     "end_time": "2018-03-21T20:35:46.955993Z",
     "start_time": "2018-03-21T20:35:46.949517Z"
    }
   },
   "outputs": [
    {
     "data": {
      "text/plain": [
       "DatetimeIndex(['1970-01-01', '1970-01-01', '1970-01-01', '1970-01-01',\n",
       "               '1970-01-01', '1970-01-01', '1970-01-01', '1970-01-01',\n",
       "               '1970-01-01', '1970-01-01', '1970-01-01', '1970-01-01',\n",
       "               '1970-01-01', '1970-01-01', '1970-01-01', '1970-01-01',\n",
       "               '1970-01-01', '1970-01-01', '1970-01-01', '1970-01-01',\n",
       "               '1970-01-01', '1970-01-01', '1970-01-01', '1970-01-01'],\n",
       "              dtype='datetime64[ns]', freq=None)"
      ]
     },
     "execution_count": 9,
     "metadata": {},
     "output_type": "execute_result"
    }
   ],
   "source": [
    "pandas.to_datetime(ds['time'])"
   ]
  },
  {
   "cell_type": "code",
   "execution_count": 10,
   "metadata": {
    "ExecuteTime": {
     "end_time": "2018-03-21T20:35:47.212485Z",
     "start_time": "2018-03-21T20:35:47.144788Z"
    }
   },
   "outputs": [
    {
     "data": {
      "text/plain": [
       "<xarray.DataArray 'TAP' (time: 24, lev: 30, lat: 64, lon: 128)>\n",
       "array([[[[246.51814, ..., 246.52171],\n",
       "         ...,\n",
       "         [168.17392, ..., 168.18257]],\n",
       "\n",
       "        ...,\n",
       "\n",
       "        [[273.6566 , ..., 273.6499 ],\n",
       "         ...,\n",
       "         [273.11188, ..., 273.1099 ]]],\n",
       "\n",
       "\n",
       "       ...,\n",
       "\n",
       "\n",
       "       [[[246.68134, ..., 246.67479],\n",
       "         ...,\n",
       "         [168.4896 , ..., 168.48784]],\n",
       "\n",
       "        ...,\n",
       "\n",
       "        [[273.5157 , ..., 273.50613],\n",
       "         ...,\n",
       "         [273.03003, ..., 273.02048]]]], dtype=float32)\n",
       "Coordinates:\n",
       "  * lat      (lat) float64 -87.86 -85.1 -82.31 -79.53 -76.74 -73.95 -71.16 ...\n",
       "  * lon      (lon) float64 0.0 2.812 5.625 8.438 11.25 14.06 16.88 19.69 ...\n",
       "  * lev      (lev) float64 3.643 7.595 14.36 24.61 38.27 54.6 72.01 87.82 ...\n",
       "  * time     (time) float64 0.0 0.04167 0.08333 0.125 0.1667 0.2083 0.25 ...\n",
       "Attributes:\n",
       "    units:      K\n",
       "    long_name:  T after physics"
      ]
     },
     "execution_count": 10,
     "metadata": {},
     "output_type": "execute_result"
    }
   ],
   "source": [
    "TAP.load()"
   ]
  },
  {
   "cell_type": "markdown",
   "metadata": {},
   "source": [
    "## Indexing\n",
    "\n",
    "Next, we will look at how indexing, i.e. selecting parts of the data, works. There are two basic methods. Selecting by integers/index, similarly to what you wold do in numpy and selecting by label.\n",
    "\n",
    "Let's start by selecting a latitude by index."
   ]
  },
  {
   "cell_type": "code",
   "execution_count": 11,
   "metadata": {
    "ExecuteTime": {
     "end_time": "2018-03-21T20:35:48.181131Z",
     "start_time": "2018-03-21T20:35:48.163865Z"
    }
   },
   "outputs": [
    {
     "data": {
      "text/plain": [
       "<xarray.Dataset>\n",
       "Dimensions:  (lev: 30, lon: 128, time: 24)\n",
       "Coordinates:\n",
       "    lat      float64 -32.09\n",
       "  * lon      (lon) float64 0.0 2.812 5.625 8.438 11.25 14.06 16.88 19.69 ...\n",
       "  * lev      (lev) float64 3.643 7.595 14.36 24.61 38.27 54.6 72.01 87.82 ...\n",
       "  * time     (time) float64 0.0 0.04167 0.08333 0.125 0.1667 0.2083 0.25 ...\n",
       "Data variables:\n",
       "    TAP      (time, lev, lon) float32 241.88943 241.84363 242.38872 ...\n",
       "    SOLIN    (time, lon) float32 ..."
      ]
     },
     "execution_count": 11,
     "metadata": {},
     "output_type": "execute_result"
    }
   ],
   "source": [
    "ds.isel(lat=20)"
   ]
  },
  {
   "cell_type": "markdown",
   "metadata": {},
   "source": [
    "We can also select several dimensions at once."
   ]
  },
  {
   "cell_type": "code",
   "execution_count": 12,
   "metadata": {
    "ExecuteTime": {
     "end_time": "2018-03-21T20:35:49.079665Z",
     "start_time": "2018-03-21T20:35:49.067684Z"
    }
   },
   "outputs": [
    {
     "data": {
      "text/plain": [
       "<xarray.Dataset>\n",
       "Dimensions:  ()\n",
       "Coordinates:\n",
       "    lat      float64 -32.09\n",
       "    lon      float64 28.12\n",
       "    lev      float64 14.36\n",
       "    time     float64 0.2083\n",
       "Data variables:\n",
       "    TAP      float32 207.13216\n",
       "    SOLIN    float32 ..."
      ]
     },
     "execution_count": 12,
     "metadata": {},
     "output_type": "execute_result"
    }
   ],
   "source": [
    "ds.isel(lat=20, lon=10, lev=2, time=5)"
   ]
  },
  {
   "cell_type": "markdown",
   "metadata": {},
   "source": [
    "If we want to select a range of values, we can use the Python slice object, which indicates from where to where we would like to grab the values for each dimension."
   ]
  },
  {
   "cell_type": "code",
   "execution_count": 13,
   "metadata": {
    "ExecuteTime": {
     "end_time": "2018-03-21T20:35:50.539995Z",
     "start_time": "2018-03-21T20:35:50.524768Z"
    }
   },
   "outputs": [
    {
     "data": {
      "text/plain": [
       "<xarray.Dataset>\n",
       "Dimensions:  (lat: 2, lon: 5, time: 24)\n",
       "Coordinates:\n",
       "  * lat      (lat) float64 -82.31 -79.53\n",
       "  * lon      (lon) float64 28.12 30.94 33.75 36.56 39.38\n",
       "    lev      float64 691.4\n",
       "  * time     (time) float64 0.0 0.04167 0.08333 0.125 0.1667 0.2083 0.25 ...\n",
       "Data variables:\n",
       "    TAP      (time, lat, lon) float32 255.4192 255.4115 255.42216 255.45656 ...\n",
       "    SOLIN    (time, lat, lon) float32 ..."
      ]
     },
     "execution_count": 13,
     "metadata": {},
     "output_type": "execute_result"
    }
   ],
   "source": [
    "ds.isel(lat=slice(2, 4), lon=slice(10, 15), lev=20)"
   ]
  },
  {
   "cell_type": "markdown",
   "metadata": {},
   "source": [
    "For DataArrays we can use the exact same syntax, but we can also use the traditional numpy indexing."
   ]
  },
  {
   "cell_type": "code",
   "execution_count": 14,
   "metadata": {
    "ExecuteTime": {
     "end_time": "2018-03-21T20:35:51.186010Z",
     "start_time": "2018-03-21T20:35:51.174304Z"
    }
   },
   "outputs": [
    {
     "data": {
      "text/plain": [
       "<xarray.DataArray 'TAP' (time: 24, lev: 30, lat: 64, lon: 128)>\n",
       "array([[[[246.51814, ..., 246.52171],\n",
       "         ...,\n",
       "         [168.17392, ..., 168.18257]],\n",
       "\n",
       "        ...,\n",
       "\n",
       "        [[273.6566 , ..., 273.6499 ],\n",
       "         ...,\n",
       "         [273.11188, ..., 273.1099 ]]],\n",
       "\n",
       "\n",
       "       ...,\n",
       "\n",
       "\n",
       "       [[[246.68134, ..., 246.67479],\n",
       "         ...,\n",
       "         [168.4896 , ..., 168.48784]],\n",
       "\n",
       "        ...,\n",
       "\n",
       "        [[273.5157 , ..., 273.50613],\n",
       "         ...,\n",
       "         [273.03003, ..., 273.02048]]]], dtype=float32)\n",
       "Coordinates:\n",
       "  * lat      (lat) float64 -87.86 -85.1 -82.31 -79.53 -76.74 -73.95 -71.16 ...\n",
       "  * lon      (lon) float64 0.0 2.812 5.625 8.438 11.25 14.06 16.88 19.69 ...\n",
       "  * lev      (lev) float64 3.643 7.595 14.36 24.61 38.27 54.6 72.01 87.82 ...\n",
       "  * time     (time) float64 0.0 0.04167 0.08333 0.125 0.1667 0.2083 0.25 ...\n",
       "Attributes:\n",
       "    units:      K\n",
       "    long_name:  T after physics"
      ]
     },
     "execution_count": 14,
     "metadata": {},
     "output_type": "execute_result"
    }
   ],
   "source": [
    "TAP"
   ]
  },
  {
   "cell_type": "code",
   "execution_count": 15,
   "metadata": {
    "ExecuteTime": {
     "end_time": "2018-03-21T20:35:51.929748Z",
     "start_time": "2018-03-21T20:35:51.915000Z"
    }
   },
   "outputs": [
    {
     "data": {
      "text/plain": [
       "<xarray.DataArray 'TAP' (time: 5, lev: 30, lon: 128)>\n",
       "array([[[244.21758, 244.21225, ..., 244.44072, 244.28699],\n",
       "        [233.10199, 232.93117, ..., 233.21298, 233.21599],\n",
       "        ...,\n",
       "        [272.33597, 272.2945 , ..., 272.56763, 272.44724],\n",
       "        [273.42813, 273.59937, ..., 274.01053, 273.81165]],\n",
       "\n",
       "       [[244.15582, 244.1911 , ..., 244.3217 , 244.1885 ],\n",
       "        [233.00433, 232.8466 , ..., 233.12303, 233.11395],\n",
       "        ...,\n",
       "        [272.24142, 272.2396 , ..., 272.51987, 272.322  ],\n",
       "        [273.51218, 273.3879 , ..., 273.91165, 273.63507]],\n",
       "\n",
       "       ...,\n",
       "\n",
       "       [[244.19263, 244.25264, ..., 244.25107, 244.17253],\n",
       "        [232.97652, 232.85649, ..., 233.1367 , 233.10452],\n",
       "        ...,\n",
       "        [272.2122 , 272.1633 , ..., 272.5433 , 272.261  ],\n",
       "        [273.47214, 273.45096, ..., 273.88467, 273.5744 ]],\n",
       "\n",
       "       [[244.32378, 244.37646, ..., 244.33723, 244.28696],\n",
       "        [233.11281, 233.00777, ..., 233.26767, 233.2459 ],\n",
       "        ...,\n",
       "        [272.19977, 272.1666 , ..., 272.48413, 272.29074],\n",
       "        [273.56873, 273.53696, ..., 273.76346, 273.58118]]], dtype=float32)\n",
       "Coordinates:\n",
       "    lat      float64 -60.0\n",
       "  * lon      (lon) float64 0.0 2.812 5.625 8.438 11.25 14.06 16.88 19.69 ...\n",
       "  * lev      (lev) float64 3.643 7.595 14.36 24.61 38.27 54.6 72.01 87.82 ...\n",
       "  * time     (time) float64 0.2083 0.25 0.2917 0.3333 0.375\n",
       "Attributes:\n",
       "    units:      K\n",
       "    long_name:  T after physics"
      ]
     },
     "execution_count": 15,
     "metadata": {},
     "output_type": "execute_result"
    }
   ],
   "source": [
    "TAP.isel(time=slice(5,10), lat=10)"
   ]
  },
  {
   "cell_type": "code",
   "execution_count": 16,
   "metadata": {
    "ExecuteTime": {
     "end_time": "2018-03-21T20:35:52.580497Z",
     "start_time": "2018-03-21T20:35:52.567777Z"
    }
   },
   "outputs": [
    {
     "data": {
      "text/plain": [
       "<xarray.DataArray 'TAP' (time: 5, lev: 30, lon: 128)>\n",
       "array([[[244.21758, 244.21225, ..., 244.44072, 244.28699],\n",
       "        [233.10199, 232.93117, ..., 233.21298, 233.21599],\n",
       "        ...,\n",
       "        [272.33597, 272.2945 , ..., 272.56763, 272.44724],\n",
       "        [273.42813, 273.59937, ..., 274.01053, 273.81165]],\n",
       "\n",
       "       [[244.15582, 244.1911 , ..., 244.3217 , 244.1885 ],\n",
       "        [233.00433, 232.8466 , ..., 233.12303, 233.11395],\n",
       "        ...,\n",
       "        [272.24142, 272.2396 , ..., 272.51987, 272.322  ],\n",
       "        [273.51218, 273.3879 , ..., 273.91165, 273.63507]],\n",
       "\n",
       "       ...,\n",
       "\n",
       "       [[244.19263, 244.25264, ..., 244.25107, 244.17253],\n",
       "        [232.97652, 232.85649, ..., 233.1367 , 233.10452],\n",
       "        ...,\n",
       "        [272.2122 , 272.1633 , ..., 272.5433 , 272.261  ],\n",
       "        [273.47214, 273.45096, ..., 273.88467, 273.5744 ]],\n",
       "\n",
       "       [[244.32378, 244.37646, ..., 244.33723, 244.28696],\n",
       "        [233.11281, 233.00777, ..., 233.26767, 233.2459 ],\n",
       "        ...,\n",
       "        [272.19977, 272.1666 , ..., 272.48413, 272.29074],\n",
       "        [273.56873, 273.53696, ..., 273.76346, 273.58118]]], dtype=float32)\n",
       "Coordinates:\n",
       "    lat      float64 -60.0\n",
       "  * lon      (lon) float64 0.0 2.812 5.625 8.438 11.25 14.06 16.88 19.69 ...\n",
       "  * lev      (lev) float64 3.643 7.595 14.36 24.61 38.27 54.6 72.01 87.82 ...\n",
       "  * time     (time) float64 0.2083 0.25 0.2917 0.3333 0.375\n",
       "Attributes:\n",
       "    units:      K\n",
       "    long_name:  T after physics"
      ]
     },
     "execution_count": 16,
     "metadata": {},
     "output_type": "execute_result"
    }
   ],
   "source": [
    "TAP[5:10, :, 10]"
   ]
  },
  {
   "cell_type": "markdown",
   "metadata": {},
   "source": [
    "Now on to indexing by label. For this we use the `sel` command. Because our coordinates are floats, we have to use the `method='nearest'` option."
   ]
  },
  {
   "cell_type": "code",
   "execution_count": 17,
   "metadata": {
    "ExecuteTime": {
     "end_time": "2018-03-21T20:35:53.454540Z",
     "start_time": "2018-03-21T20:35:53.420996Z"
    }
   },
   "outputs": [
    {
     "data": {
      "text/plain": [
       "<xarray.Dataset>\n",
       "Dimensions:  (lev: 30, lon: 128, time: 24)\n",
       "Coordinates:\n",
       "    lat      float64 20.93\n",
       "  * lon      (lon) float64 0.0 2.812 5.625 8.438 11.25 14.06 16.88 19.69 ...\n",
       "  * lev      (lev) float64 3.643 7.595 14.36 24.61 38.27 54.6 72.01 87.82 ...\n",
       "  * time     (time) float64 0.0 0.04167 0.08333 0.125 0.1667 0.2083 0.25 ...\n",
       "Data variables:\n",
       "    TAP      (time, lev, lon) float32 228.25618 228.16142 228.31125 ...\n",
       "    SOLIN    (time, lon) float32 ..."
      ]
     },
     "execution_count": 17,
     "metadata": {},
     "output_type": "execute_result"
    }
   ],
   "source": [
    "ds.sel(lat=20, method='nearest')"
   ]
  },
  {
   "cell_type": "markdown",
   "metadata": {},
   "source": [
    "As above we can pass a slice object to grab a range of values. Here now, we must not use the nearest method."
   ]
  },
  {
   "cell_type": "code",
   "execution_count": 27,
   "metadata": {
    "ExecuteTime": {
     "end_time": "2018-03-21T20:35:55.440327Z",
     "start_time": "2018-03-21T20:35:55.412802Z"
    }
   },
   "outputs": [
    {
     "data": {
      "text/plain": [
       "<xarray.Dataset>\n",
       "Dimensions:  (lat: 8, lev: 30, lon: 7, time: 24)\n",
       "Coordinates:\n",
       "  * lat      (lat) float64 -9.767 -6.977 -4.186 -1.395 1.395 4.186 6.977 9.767\n",
       "  * lon      (lon) float64 22.5 25.31 28.12 30.94 33.75 36.56 39.38\n",
       "  * lev      (lev) float64 3.643 7.595 14.36 24.61 38.27 54.6 72.01 87.82 ...\n",
       "  * time     (time) float64 0.0 0.04167 0.08333 0.125 0.1667 0.2083 0.25 ...\n",
       "Data variables:\n",
       "    TAP      (time, lev, lat, lon) float32 ...\n",
       "    SOLIN    (time, lat, lon) float32 ..."
      ]
     },
     "execution_count": 27,
     "metadata": {},
     "output_type": "execute_result"
    }
   ],
   "source": [
    "ds.sel(lat=slice(-10, 10), lon=slice(20, 40))"
   ]
  },
  {
   "cell_type": "markdown",
   "metadata": {},
   "source": [
    "We can also combine the different methods. If we wanted to select a certain longitude-latitude range by label (i.e. degrees) and additionally the 20th model level we can just do it in turn."
   ]
  },
  {
   "cell_type": "code",
   "execution_count": 28,
   "metadata": {
    "ExecuteTime": {
     "end_time": "2018-03-21T20:35:57.087017Z",
     "start_time": "2018-03-21T20:35:57.070632Z"
    }
   },
   "outputs": [
    {
     "data": {
      "text/plain": [
       "<xarray.Dataset>\n",
       "Dimensions:  (lat: 8, lon: 7, time: 24)\n",
       "Coordinates:\n",
       "  * lat      (lat) float64 -9.767 -6.977 -4.186 -1.395 1.395 4.186 6.977 9.767\n",
       "  * lon      (lon) float64 22.5 25.31 28.12 30.94 33.75 36.56 39.38\n",
       "    lev      float64 691.4\n",
       "  * time     (time) float64 0.0 0.04167 0.08333 0.125 0.1667 0.2083 0.25 ...\n",
       "Data variables:\n",
       "    TAP      (time, lat, lon) float32 ...\n",
       "    SOLIN    (time, lat, lon) float32 ..."
      ]
     },
     "execution_count": 28,
     "metadata": {},
     "output_type": "execute_result"
    }
   ],
   "source": [
    "ds.sel(lat=slice(-10, 10), lon=slice(20, 40)).isel(lev=20)"
   ]
  },
  {
   "cell_type": "markdown",
   "metadata": {},
   "source": [
    "Again, this indexing method also works for DataArrays"
   ]
  },
  {
   "cell_type": "code",
   "execution_count": 29,
   "metadata": {
    "ExecuteTime": {
     "end_time": "2018-03-21T20:35:57.911815Z",
     "start_time": "2018-03-21T20:35:57.896809Z"
    }
   },
   "outputs": [
    {
     "data": {
      "text/plain": [
       "<xarray.DataArray 'TAP' (time: 24, lat: 8, lon: 7)>\n",
       "array([[[283.46555, 283.0255 , ..., 281.46375, 281.19388],\n",
       "        [283.612  , 283.17413, ..., 281.93976, 282.27023],\n",
       "        ...,\n",
       "        [282.4808 , 282.57626, ..., 283.05103, 283.00583],\n",
       "        [282.07947, 281.9209 , ..., 283.57135, 283.29236]],\n",
       "\n",
       "       [[283.17035, 282.83405, ..., 281.3748 , 281.14178],\n",
       "        [283.4708 , 283.06534, ..., 281.7418 , 282.0519 ],\n",
       "        ...,\n",
       "        [282.45932, 282.83536, ..., 282.8729 , 282.31586],\n",
       "        [281.8632 , 281.85104, ..., 283.50076, 282.93445]],\n",
       "\n",
       "       ...,\n",
       "\n",
       "       [[283.33392, 283.22934, ..., 282.68802, 283.01743],\n",
       "        [282.8666 , 282.88962, ..., 283.27005, 283.98892],\n",
       "        ...,\n",
       "        [282.69626, 283.40533, ..., 282.56427, 283.45895],\n",
       "        [282.6394 , 282.34625, ..., 281.28555, 282.29456]],\n",
       "\n",
       "       [[283.28094, 283.1273 , ..., 282.59476, 282.9711 ],\n",
       "        [282.73407, 282.77032, ..., 283.31177, 283.99374],\n",
       "        ...,\n",
       "        [282.3636 , 283.27493, ..., 282.61996, 283.54105],\n",
       "        [282.3692 , 282.23572, ..., 281.1928 , 282.4446 ]]], dtype=float32)\n",
       "Coordinates:\n",
       "  * lat      (lat) float64 -9.767 -6.977 -4.186 -1.395 1.395 4.186 6.977 9.767\n",
       "  * lon      (lon) float64 22.5 25.31 28.12 30.94 33.75 36.56 39.38\n",
       "    lev      float64 691.4\n",
       "  * time     (time) float64 0.0 0.04167 0.08333 0.125 0.1667 0.2083 0.25 ...\n",
       "Attributes:\n",
       "    units:      K\n",
       "    long_name:  T after physics"
      ]
     },
     "execution_count": 29,
     "metadata": {},
     "output_type": "execute_result"
    }
   ],
   "source": [
    "TAP.sel(lat=slice(-10, 10), lon=slice(20, 40)).isel(lev=20)"
   ]
  },
  {
   "cell_type": "markdown",
   "metadata": {},
   "source": [
    "There is much more information on indexing, particularly with encoded times: http://xarray.pydata.org/en/stable/indexing.html\n",
    "\n",
    "http://xarray.pydata.org/en/stable/time-series.html\n",
    "\n",
    "Finally, we can easily convert a DataArray to a numpy array by adding `.values`"
   ]
  },
  {
   "cell_type": "code",
   "execution_count": 30,
   "metadata": {
    "ExecuteTime": {
     "end_time": "2018-03-21T20:35:59.206025Z",
     "start_time": "2018-03-21T20:35:59.196767Z"
    }
   },
   "outputs": [
    {
     "data": {
      "text/plain": [
       "array([[283.46555, 283.0255 , 282.4047 , 282.04602, 281.65973, 281.46375,\n",
       "        281.19388],\n",
       "       [283.612  , 283.17413, 282.88516, 282.70462, 281.83997, 281.93976,\n",
       "        282.27023],\n",
       "       [283.57257, 283.2474 , 282.25656, 282.60266, 283.37704, 283.349  ,\n",
       "        282.96774],\n",
       "       [282.82745, 283.24667, 282.853  , 282.57114, 282.96005, 283.04413,\n",
       "        282.70703],\n",
       "       [282.93304, 282.2624 , 282.78433, 282.96606, 282.74237, 282.83194,\n",
       "        282.61658],\n",
       "       [282.67178, 281.89944, 281.84863, 282.58398, 283.19012, 282.8719 ,\n",
       "        282.69122],\n",
       "       [282.4808 , 282.57626, 282.39362, 281.59357, 282.0388 , 283.05103,\n",
       "        283.00583],\n",
       "       [282.07947, 281.9209 , 282.52118, 280.912  , 281.11462, 283.57135,\n",
       "        283.29236]], dtype=float32)"
      ]
     },
     "execution_count": 30,
     "metadata": {},
     "output_type": "execute_result"
    }
   ],
   "source": [
    "TAP.sel(lat=slice(-10, 10), lon=slice(20, 40)).isel(lev=20, time=0).values"
   ]
  },
  {
   "cell_type": "markdown",
   "metadata": {},
   "source": [
    "`.data` also works:"
   ]
  },
  {
   "cell_type": "markdown",
   "metadata": {},
   "source": [
    "## Plotting\n",
    "\n",
    "One benefit of using xarray over plain NetCDF4 or numpy is the ability to quickly create decent plots. This is super-handy when interactively analyzing data. \n",
    "\n",
    "First up, let's plot a latitude-longitude slice of the incoming solar radiation."
   ]
  },
  {
   "cell_type": "code",
   "execution_count": 31,
   "metadata": {
    "ExecuteTime": {
     "end_time": "2018-03-21T20:36:03.188210Z",
     "start_time": "2018-03-21T20:36:02.801785Z"
    }
   },
   "outputs": [
    {
     "data": {
      "image/png": "[encoded data removed]",
      "text/plain": [
       "<Figure size 432x288 with 2 Axes>"
      ]
     },
     "metadata": {},
     "output_type": "display_data"
    }
   ],
   "source": [
    "ds['SOLIN'].isel(time=1).plot();"
   ]
  },
  {
   "cell_type": "code",
   "execution_count": 45,
   "metadata": {
    "ExecuteTime": {
     "end_time": "2018-03-21T20:41:31.324821Z",
     "start_time": "2018-03-21T20:41:31.004180Z"
    }
   },
   "outputs": [
    {
     "data": {
      "text/plain": [
       "<matplotlib.collections.QuadMesh at 0x122df2668>"
      ]
     },
     "execution_count": 45,
     "metadata": {},
     "output_type": "execute_result"
    },
    {
     "data": {
      "image/png": "[encoded data removed]",
      "text/plain": [
       "<Figure size 432x288 with 2 Axes>"
      ]
     },
     "metadata": {},
     "output_type": "display_data"
    }
   ],
   "source": [
    "ds['TAP'].isel(time=1,lev=20).plot()"
   ]
  },
  {
   "cell_type": "markdown",
   "metadata": {},
   "source": [
    "How about a latitude-height slice of the temperature. Since the height coordinate is pressure, we can use the option `yincrease=False` to reverse the y-axis."
   ]
  },
  {
   "cell_type": "code",
   "execution_count": 46,
   "metadata": {
    "ExecuteTime": {
     "end_time": "2018-03-21T20:41:32.577473Z",
     "start_time": "2018-03-21T20:41:32.267943Z"
    }
   },
   "outputs": [
    {
     "data": {
      "image/png": "[encoded data removed]",
      "text/plain": [
       "<Figure size 432x288 with 2 Axes>"
      ]
     },
     "metadata": {},
     "output_type": "display_data"
    }
   ],
   "source": [
    "ds['TAP'].isel(time=-1, lon=0).plot(yincrease=False);"
   ]
  },
  {
   "cell_type": "markdown",
   "metadata": {},
   "source": [
    "The plotting is build on top of matplotlib's [pcolormesh](https://matplotlib.org/api/_as_gen/matplotlib.pyplot.pcolormesh.html#matplotlib.pyplot.pcolormesh) function. This means we can pass all valid arguments to this function.\n",
    "\n",
    "Additionally, we can use the standard `plt` functions afterwards to customize the plot."
   ]
  },
  {
   "cell_type": "code",
   "execution_count": 47,
   "metadata": {
    "ExecuteTime": {
     "end_time": "2018-03-21T20:41:33.720681Z",
     "start_time": "2018-03-21T20:41:33.474637Z"
    }
   },
   "outputs": [
    {
     "data": {
      "image/png": "[encoded data removed]",
      "text/plain": [
       "<Figure size 432x288 with 2 Axes>"
      ]
     },
     "metadata": {},
     "output_type": "display_data"
    }
   ],
   "source": [
    "ds['TAP'].isel(time=-1, lon=0).plot(yincrease=False, cmap='jet', vmin=250)\n",
    "plt.title('My custom title');"
   ]
  },
  {
   "cell_type": "markdown",
   "metadata": {},
   "source": [
    "1D data will get displayed as a line plot. Again, we can pass the regular `plt.plot` arguments."
   ]
  },
  {
   "cell_type": "code",
   "execution_count": 48,
   "metadata": {
    "ExecuteTime": {
     "end_time": "2018-03-21T20:41:34.898517Z",
     "start_time": "2018-03-21T20:41:34.542225Z"
    }
   },
   "outputs": [
    {
     "data": {
      "image/png": "[encoded data removed]",
      "text/plain": [
       "<Figure size 432x288 with 1 Axes>"
      ]
     },
     "metadata": {},
     "output_type": "display_data"
    }
   ],
   "source": [
    "ds['SOLIN'].isel(lon=0, lat=20).plot(label='lat 20',c='firebrick')\n",
    "ds['SOLIN'].isel(lon=0, lat=40).plot(label='lat 40',c='0.1')\n",
    "plt.legend();"
   ]
  },
  {
   "cell_type": "markdown",
   "metadata": {},
   "source": [
    "## Computations\n",
    "\n",
    "Now that we know how to index, let's do some computations. \n",
    "\n",
    "Why not take the mean of SOLIN over time."
   ]
  },
  {
   "cell_type": "code",
   "execution_count": 49,
   "metadata": {
    "ExecuteTime": {
     "end_time": "2018-03-21T20:41:47.575096Z",
     "start_time": "2018-03-21T20:41:47.555873Z"
    }
   },
   "outputs": [
    {
     "data": {
      "text/plain": [
       "<xarray.DataArray 'SOLIN' (lat: 64, lon: 128)>\n",
       "array([[510.3064 , 510.31006, 510.30893, ..., 510.266  , 510.2843 , 510.29785],\n",
       "       [511.4189 , 511.42746, 511.42468, ..., 511.32632, 511.36826, 511.39917],\n",
       "       [511.3346 , 511.34793, 511.34363, ..., 511.18982, 511.25546, 511.3037 ],\n",
       "       ...,\n",
       "       [  0.     ,   0.     ,   0.     , ...,   0.     ,   0.     ,   0.     ],\n",
       "       [  0.     ,   0.     ,   0.     , ...,   0.     ,   0.     ,   0.     ],\n",
       "       [  0.     ,   0.     ,   0.     , ...,   0.     ,   0.     ,   0.     ]],\n",
       "      dtype=float32)\n",
       "Coordinates:\n",
       "  * lat      (lat) float64 -87.86 -85.1 -82.31 -79.53 -76.74 -73.95 -71.16 ...\n",
       "  * lon      (lon) float64 -180.0 -177.2 -174.4 -171.6 -168.8 -165.9 -163.1 ..."
      ]
     },
     "execution_count": 49,
     "metadata": {},
     "output_type": "execute_result"
    }
   ],
   "source": [
    "ds['SOLIN'].mean(dim='time')"
   ]
  },
  {
   "cell_type": "markdown",
   "metadata": {},
   "source": [
    "Or the standard deviation of temperature over time and longitude."
   ]
  },
  {
   "cell_type": "code",
   "execution_count": 50,
   "metadata": {
    "ExecuteTime": {
     "end_time": "2018-03-21T20:44:42.607392Z",
     "start_time": "2018-03-21T20:44:42.257962Z"
    }
   },
   "outputs": [
    {
     "data": {
      "image/png": "[encoded data removed]",
      "text/plain": [
       "<Figure size 432x288 with 2 Axes>"
      ]
     },
     "metadata": {},
     "output_type": "display_data"
    }
   ],
   "source": [
    "ds['TAP'].std(dim=('time', 'lon')).plot(yincrease=False, robust=True);"
   ]
  },
  {
   "cell_type": "markdown",
   "metadata": {},
   "source": [
    "Just as with numpy arrays we can do operations with multiple DataArrays. For no reason whatsoever we can multiply temperature and solar radiation. It will automatically match and broadcast dimensions. As an aside, if you are unsure what broadcasting is (which is super useful in numpy) check this out: https://docs.scipy.org/doc/numpy-1.14.0/user/basics.broadcasting.html"
   ]
  },
  {
   "cell_type": "code",
   "execution_count": 51,
   "metadata": {
    "ExecuteTime": {
     "end_time": "2018-03-21T20:44:43.249793Z",
     "start_time": "2018-03-21T20:44:43.224980Z"
    }
   },
   "outputs": [
    {
     "data": {
      "text/plain": [
       "<xarray.DataArray (time: 24, lev: 30, lat: 64, lon: 128)>\n",
       "array([[[[     0.  , ...,      0.  ],\n",
       "         ...,\n",
       "         [     0.  , ...,      0.  ]],\n",
       "\n",
       "        ...,\n",
       "\n",
       "        [[     0.  , ...,      0.  ],\n",
       "         ...,\n",
       "         [     0.  , ...,      0.  ]]],\n",
       "\n",
       "\n",
       "       ...,\n",
       "\n",
       "\n",
       "       [[[119065.49, ..., 119265.73],\n",
       "         ...,\n",
       "         [     0.  , ...,      0.  ]],\n",
       "\n",
       "        ...,\n",
       "\n",
       "        [[132017.61, ..., 132238.52],\n",
       "         ...,\n",
       "         [     0.  , ...,      0.  ]]]], dtype=float32)\n",
       "Coordinates:\n",
       "  * lat      (lat) float64 -87.86 -85.1 -82.31 -79.53 -76.74 -73.95 -71.16 ...\n",
       "  * lon      (lon) float64 -180.0 -177.2 -174.4 -171.6 -168.8 -165.9 -163.1 ...\n",
       "  * lev      (lev) float64 3.643 7.595 14.36 24.61 38.27 54.6 72.01 87.82 ...\n",
       "  * time     (time) float64 0.0 0.04167 0.08333 0.125 0.1667 0.2083 0.25 ..."
      ]
     },
     "execution_count": 51,
     "metadata": {},
     "output_type": "execute_result"
    }
   ],
   "source": [
    "ds['TAP'] * ds['SOLIN']"
   ]
  },
  {
   "cell_type": "markdown",
   "metadata": {},
   "source": [
    "## Opening a multi-file Dataset\n",
    "\n",
    "xarray also allows us to handle multiple files and large data amounts. For this is uses dask arrays in the background."
   ]
  },
  {
   "cell_type": "code",
   "execution_count": 59,
   "metadata": {
    "ExecuteTime": {
     "end_time": "2018-03-21T20:45:15.250493Z",
     "start_time": "2018-03-21T20:45:15.109435Z"
    }
   },
   "outputs": [
    {
     "name": "stdout",
     "output_type": "stream",
     "text": [
      "CAM01.nc\r\n",
      "CAM02.nc\r\n",
      "CAM03.nc\r\n"
     ]
    }
   ],
   "source": [
    "!ls -1 CAM*.nc"
   ]
  },
  {
   "cell_type": "code",
   "execution_count": 60,
   "metadata": {
    "ExecuteTime": {
     "end_time": "2018-03-21T20:45:15.695947Z",
     "start_time": "2018-03-21T20:45:15.652824Z"
    }
   },
   "outputs": [],
   "source": [
    "mfds = xr.open_mfdataset('CAM*.nc', decode_times=False)"
   ]
  },
  {
   "cell_type": "markdown",
   "metadata": {},
   "source": [
    "If you are reading in a very large dataset and it takes a very long time, you can use the option `decode_cf=False` to speed up things. As far as I know, this shouldn't break things..."
   ]
  },
  {
   "cell_type": "code",
   "execution_count": 61,
   "metadata": {
    "ExecuteTime": {
     "end_time": "2018-03-21T20:52:05.821954Z",
     "start_time": "2018-03-21T20:52:05.804289Z"
    }
   },
   "outputs": [
    {
     "data": {
      "text/plain": [
       "<xarray.Dataset>\n",
       "Dimensions:  (lat: 64, lev: 30, lon: 128, time: 72)\n",
       "Coordinates:\n",
       "  * lat      (lat) float64 -87.86 -85.1 -82.31 -79.53 -76.74 -73.95 -71.16 ...\n",
       "  * lon      (lon) float64 0.0 2.812 5.625 8.438 11.25 14.06 16.88 19.69 ...\n",
       "  * lev      (lev) float64 3.643 7.595 14.36 24.61 38.27 54.6 72.01 87.82 ...\n",
       "  * time     (time) float64 0.0 0.04167 0.08333 0.125 0.1667 0.2083 0.25 ...\n",
       "Data variables:\n",
       "    TAP      (time, lev, lat, lon) float32 dask.array<shape=(72, 30, 64, 128), chunksize=(24, 30, 64, 128)>\n",
       "    SOLIN    (time, lat, lon) float32 dask.array<shape=(72, 64, 128), chunksize=(24, 64, 128)>"
      ]
     },
     "execution_count": 61,
     "metadata": {},
     "output_type": "execute_result"
    }
   ],
   "source": [
    "mfds"
   ]
  },
  {
   "cell_type": "markdown",
   "metadata": {},
   "source": [
    "So now we have a dataset with 72 time steps instead of 24. The large difference is that the data are represented as dask arrays in chunks.\n",
    "\n",
    "Any operation such as computing the mean will be executed in chunks, one at a time across multiple processors. This is great for not blowing up your RAM. For more information check out: http://xarray.pydata.org/en/stable/dask.html\n",
    "\n",
    "Let quickly try it out."
   ]
  },
  {
   "cell_type": "code",
   "execution_count": 62,
   "metadata": {
    "ExecuteTime": {
     "end_time": "2018-03-21T20:52:07.235386Z",
     "start_time": "2018-03-21T20:52:07.222728Z"
    }
   },
   "outputs": [
    {
     "data": {
      "text/plain": [
       "<xarray.DataArray 'TAP' (lev: 30, lat: 64)>\n",
       "dask.array<shape=(30, 64), dtype=float32, chunksize=(30, 64)>\n",
       "Coordinates:\n",
       "  * lat      (lat) float64 -87.86 -85.1 -82.31 -79.53 -76.74 -73.95 -71.16 ...\n",
       "  * lev      (lev) float64 3.643 7.595 14.36 24.61 38.27 54.6 72.01 87.82 ..."
      ]
     },
     "execution_count": 62,
     "metadata": {},
     "output_type": "execute_result"
    }
   ],
   "source": [
    "tmp = mfds['TAP'].mean(('time', 'lon')); tmp"
   ]
  },
  {
   "cell_type": "markdown",
   "metadata": {},
   "source": [
    "If we actually want to get the values, we can either convert the array to a numpy array or use the `.load` command."
   ]
  },
  {
   "cell_type": "code",
   "execution_count": 63,
   "metadata": {
    "ExecuteTime": {
     "end_time": "2018-03-21T20:52:08.118429Z",
     "start_time": "2018-03-21T20:52:07.976090Z"
    }
   },
   "outputs": [
    {
     "data": {
      "text/plain": [
       "<xarray.DataArray 'TAP' (lev: 30, lat: 64)>\n",
       "array([[246.67087, 246.63655, 246.59857, ..., 169.0527 , 168.41913, 168.17192],\n",
       "       [232.16786, 232.41473, 232.57555, ..., 173.73885, 173.02019, 172.52357],\n",
       "       [217.02682, 216.91103, 217.02155, ..., 163.28139, 162.19052, 161.85211],\n",
       "       ...,\n",
       "       [270.86038, 270.91754, 270.96353, ..., 269.6764 , 269.70505, 269.7355 ],\n",
       "       [272.24878, 272.23865, 272.27704, ..., 271.04086, 271.07553, 271.0971 ],\n",
       "       [273.61026, 273.59982, 273.6299 , ..., 272.6179 , 272.6571 , 272.67096]],\n",
       "      dtype=float32)\n",
       "Coordinates:\n",
       "  * lat      (lat) float64 -87.86 -85.1 -82.31 -79.53 -76.74 -73.95 -71.16 ...\n",
       "  * lev      (lev) float64 3.643 7.595 14.36 24.61 38.27 54.6 72.01 87.82 ..."
      ]
     },
     "execution_count": 63,
     "metadata": {},
     "output_type": "execute_result"
    }
   ],
   "source": [
    "tmp.load()"
   ]
  },
  {
   "cell_type": "markdown",
   "metadata": {
    "heading_collapsed": true
   },
   "source": [
    "## Creating DataArrays and Datasets\n",
    "\n",
    "What if we have some data in a numpy array and want to create a xarray DataArray from it."
   ]
  },
  {
   "cell_type": "code",
   "execution_count": 80,
   "metadata": {
    "ExecuteTime": {
     "end_time": "2018-03-21T20:55:19.261611Z",
     "start_time": "2018-03-21T20:55:19.243759Z"
    },
    "hidden": true
   },
   "outputs": [
    {
     "data": {
      "text/plain": [
       "<xarray.DataArray (dim_0: 4, dim_1: 5)>\n",
       "array([[0.925627, 0.478103, 0.745753, 0.384531, 0.141424],\n",
       "       [0.088538, 0.02054 , 0.292439, 0.687456, 0.887037],\n",
       "       [0.699465, 0.154387, 0.68632 , 0.217478, 0.159394],\n",
       "       [0.551227, 0.526669, 0.115552, 0.487137, 0.608715]])\n",
       "Dimensions without coordinates: dim_0, dim_1"
      ]
     },
     "execution_count": 80,
     "metadata": {},
     "output_type": "execute_result"
    }
   ],
   "source": [
    "myda = xr.DataArray(np.random.rand(4, 5)); myda"
   ]
  },
  {
   "cell_type": "markdown",
   "metadata": {
    "hidden": true
   },
   "source": [
    "But now we have no coordinates... let's create some"
   ]
  },
  {
   "cell_type": "code",
   "execution_count": 81,
   "metadata": {
    "ExecuteTime": {
     "end_time": "2018-03-21T20:55:20.039352Z",
     "start_time": "2018-03-21T20:55:20.030673Z"
    },
    "hidden": true
   },
   "outputs": [
    {
     "data": {
      "text/plain": [
       "(array([0, 1, 2, 3]), array([0, 1, 2, 3, 4]))"
      ]
     },
     "execution_count": 81,
     "metadata": {},
     "output_type": "execute_result"
    }
   ],
   "source": [
    "lats = np.arange(4); lons = np.arange(5)\n",
    "lats, lons"
   ]
  },
  {
   "cell_type": "code",
   "execution_count": 99,
   "metadata": {
    "ExecuteTime": {
     "end_time": "2018-03-21T20:58:09.351681Z",
     "start_time": "2018-03-21T20:58:09.344733Z"
    },
    "hidden": true
   },
   "outputs": [],
   "source": [
    "myda = xr.DataArray(np.random.rand(4, 5), coords = {'lat': lats, 'lon': lons}, dims=('lat', 'lon'))\n",
    "myda.name = 'Var1'"
   ]
  },
  {
   "cell_type": "markdown",
   "metadata": {
    "hidden": true
   },
   "source": [
    "We can also add attributes such as units."
   ]
  },
  {
   "cell_type": "code",
   "execution_count": 100,
   "metadata": {
    "ExecuteTime": {
     "end_time": "2018-03-21T20:58:11.499111Z",
     "start_time": "2018-03-21T20:58:11.495528Z"
    },
    "hidden": true
   },
   "outputs": [],
   "source": [
    "myda.attrs['units'] = 'K'"
   ]
  },
  {
   "cell_type": "markdown",
   "metadata": {
    "hidden": true
   },
   "source": [
    "And a name for our variable"
   ]
  },
  {
   "cell_type": "code",
   "execution_count": 86,
   "metadata": {
    "ExecuteTime": {
     "end_time": "2018-03-21T20:56:04.438481Z",
     "start_time": "2018-03-21T20:56:04.434682Z"
    },
    "hidden": true
   },
   "outputs": [],
   "source": [
    "myda.name = 'Var1'"
   ]
  },
  {
   "cell_type": "code",
   "execution_count": 102,
   "metadata": {
    "ExecuteTime": {
     "end_time": "2018-03-21T20:58:38.214187Z",
     "start_time": "2018-03-21T20:58:38.209796Z"
    }
   },
   "outputs": [],
   "source": [
    "myds = myda.to_dataset()\n",
    "#myds['Var1'].attrs['units'] = 'K'"
   ]
  },
  {
   "cell_type": "code",
   "execution_count": 104,
   "metadata": {
    "ExecuteTime": {
     "end_time": "2018-03-21T20:58:46.987682Z",
     "start_time": "2018-03-21T20:58:46.971187Z"
    }
   },
   "outputs": [
    {
     "data": {
      "text/plain": [
       "<xarray.Dataset>\n",
       "Dimensions:  (lat: 4, lon: 5)\n",
       "Coordinates:\n",
       "  * lat      (lat) int64 0 1 2 3\n",
       "  * lon      (lon) int64 0 1 2 3 4\n",
       "Data variables:\n",
       "    Var1     (lat, lon) float64 0.5103 0.6078 0.1723 0.09435 0.8439 0.7326 ..."
      ]
     },
     "execution_count": 104,
     "metadata": {},
     "output_type": "execute_result"
    }
   ],
   "source": [
    "myds"
   ]
  },
  {
   "cell_type": "markdown",
   "metadata": {
    "hidden": true
   },
   "source": [
    "Let's now create another DataArray with one coordinate from above and a new one."
   ]
  },
  {
   "cell_type": "code",
   "execution_count": 105,
   "metadata": {
    "ExecuteTime": {
     "end_time": "2018-03-21T20:58:47.668093Z",
     "start_time": "2018-03-21T20:58:47.661424Z"
    },
    "hidden": true
   },
   "outputs": [
    {
     "data": {
      "text/plain": [
       "array([0, 1, 2])"
      ]
     },
     "execution_count": 105,
     "metadata": {},
     "output_type": "execute_result"
    }
   ],
   "source": [
    "levs = np.arange(3); levs"
   ]
  },
  {
   "cell_type": "code",
   "execution_count": 106,
   "metadata": {
    "ExecuteTime": {
     "end_time": "2018-03-21T20:58:47.896062Z",
     "start_time": "2018-03-21T20:58:47.879079Z"
    },
    "hidden": true
   },
   "outputs": [
    {
     "data": {
      "text/plain": [
       "<xarray.DataArray 'Var2' (lev: 3, lon: 5)>\n",
       "array([[0.126993, 0.143039, 0.024898, 0.127973, 0.271209],\n",
       "       [0.13318 , 0.302279, 0.784313, 0.937515, 0.749732],\n",
       "       [0.492831, 0.942279, 0.024303, 0.882015, 0.399416]])\n",
       "Coordinates:\n",
       "  * lev      (lev) int64 0 1 2\n",
       "  * lon      (lon) int64 0 1 2 3 4"
      ]
     },
     "execution_count": 106,
     "metadata": {},
     "output_type": "execute_result"
    }
   ],
   "source": [
    "myda2 = xr.DataArray(np.random.rand(3, 5), coords = {'lev': levs, 'lon': lons}, dims=('lev', 'lon'))\n",
    "myda2.name = 'Var2'\n",
    "myda2"
   ]
  },
  {
   "cell_type": "markdown",
   "metadata": {
    "hidden": true
   },
   "source": [
    " Now we merge the two DataArrays to a Dataset."
   ]
  },
  {
   "cell_type": "code",
   "execution_count": 107,
   "metadata": {
    "ExecuteTime": {
     "end_time": "2018-03-21T20:58:48.424117Z",
     "start_time": "2018-03-21T20:58:48.401587Z"
    },
    "hidden": true
   },
   "outputs": [
    {
     "data": {
      "text/plain": [
       "<xarray.Dataset>\n",
       "Dimensions:  (lat: 4, lev: 3, lon: 5)\n",
       "Coordinates:\n",
       "  * lat      (lat) int64 0 1 2 3\n",
       "  * lon      (lon) int64 0 1 2 3 4\n",
       "  * lev      (lev) int64 0 1 2\n",
       "Data variables:\n",
       "    Var1     (lat, lon) float64 0.5103 0.6078 0.1723 0.09435 0.8439 0.7326 ...\n",
       "    Var2     (lev, lon) float64 0.127 0.143 0.0249 0.128 0.2712 0.1332 ..."
      ]
     },
     "execution_count": 107,
     "metadata": {},
     "output_type": "execute_result"
    }
   ],
   "source": [
    "myds = xr.merge([myda, myda2]); myds"
   ]
  },
  {
   "cell_type": "markdown",
   "metadata": {
    "hidden": true
   },
   "source": [
    "We can easily save the dataset to a netcdf file."
   ]
  },
  {
   "cell_type": "code",
   "execution_count": 108,
   "metadata": {
    "ExecuteTime": {
     "end_time": "2018-03-21T20:58:49.047202Z",
     "start_time": "2018-03-21T20:58:49.029745Z"
    },
    "hidden": true
   },
   "outputs": [],
   "source": [
    "myds.to_netcdf('my-sample-ds.nc')"
   ]
  },
  {
   "cell_type": "code",
   "execution_count": 109,
   "metadata": {
    "ExecuteTime": {
     "end_time": "2018-03-21T20:58:49.613093Z",
     "start_time": "2018-03-21T20:58:49.470790Z"
    },
    "hidden": true
   },
   "outputs": [
    {
     "name": "stdout",
     "output_type": "stream",
     "text": [
      "CAM01.nc           CAM03.nc           my-sample-ds.nc    xarray-intro.ipynb\r\n",
      "CAM02.nc           debugging.ipynb    test.nc\r\n"
     ]
    }
   ],
   "source": [
    "!ls"
   ]
  },
  {
   "cell_type": "markdown",
   "metadata": {
    "heading_collapsed": true
   },
   "source": [
    "## Plotting with cartopy \n",
    "\n",
    "Yes, you can combine the plotting functionality with cartopy. More about plotting can be found here: http://xarray.pydata.org/en/stable/plotting.html\n",
    "\n",
    "I am no expert, but let's still try to figure out how to do one plot..."
   ]
  },
  {
   "cell_type": "code",
   "execution_count": 112,
   "metadata": {
    "ExecuteTime": {
     "end_time": "2018-03-21T20:59:24.978864Z",
     "start_time": "2018-03-21T20:59:24.974773Z"
    },
    "hidden": true
   },
   "outputs": [],
   "source": [
    "import cartopy.crs as ccrs"
   ]
  },
  {
   "cell_type": "code",
   "execution_count": 113,
   "metadata": {
    "ExecuteTime": {
     "end_time": "2018-03-21T20:59:50.324474Z",
     "start_time": "2018-03-21T20:59:49.709732Z"
    },
    "hidden": true
   },
   "outputs": [
    {
     "data": {
      "image/png": "[encoded data removed]",
      "text/plain": [
       "<Figure size 720x720 with 2 Axes>"
      ]
     },
     "metadata": {},
     "output_type": "display_data"
    }
   ],
   "source": [
    "fig = plt.figure(figsize=(10, 10))\n",
    "ax = plt.axes(projection=ccrs.Orthographic(-80, 35))\n",
    "TAP.isel(time=1, lev=20).plot.contourf(ax=ax, transform=ccrs.PlateCarree())\n",
    "ax.set_global(); ax.coastlines();"
   ]
  },
  {
   "cell_type": "markdown",
   "metadata": {},
   "source": [
    "# End"
   ]
  },
  {
   "cell_type": "code",
   "execution_count": null,
   "metadata": {
    "collapsed": true
   },
   "outputs": [],
   "source": []
  }
 ],
 "metadata": {
  "kernelspec": {
   "display_name": "Python 3",
   "language": "python",
   "name": "python3"
  },
  "language_info": {
   "codemirror_mode": {
    "name": "ipython",
    "version": 3
   },
   "file_extension": ".py",
   "mimetype": "text/x-python",
   "name": "python",
   "nbconvert_exporter": "python",
   "pygments_lexer": "ipython3",
   "version": "3.7.2"
  },
  "toc": {
   "nav_menu": {},
   "number_sections": true,
   "sideBar": false,
   "skip_h1_title": true,
   "title_cell": "Table of Contents",
   "title_sidebar": "Contents",
   "toc_cell": false,
   "toc_position": {},
   "toc_section_display": "block",
   "toc_window_display": false
  }
 },
 "nbformat": 4,
 "nbformat_minor": 2
}
