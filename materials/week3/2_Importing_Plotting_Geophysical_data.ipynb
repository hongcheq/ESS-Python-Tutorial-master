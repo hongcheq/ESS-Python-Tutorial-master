{
 "cells": [
  {
   "cell_type": "markdown",
   "metadata": {},
   "source": [
    "## UVCDAT\n",
    "\n",
    "Ultrascale Visualization Climate Data Analysis Tools, or UVCDAT for short, is a python package particularly well suited for climate-data analysis. \n",
    "\n",
    "Its strengths are in \n",
    "\n",
    "* smart indexing to pull out particular chunks of geophysical data, \n",
    "\n",
    "* the built in commands that make manipulating the data easier, \n",
    "\n",
    "* ease by which data can be quickly uploaded and plotted. "
   ]
  },
  {
   "cell_type": "markdown",
   "metadata": {},
   "source": [
    "## Inputting geophysical data and plotting maps using UVCDAT\n",
    "\n",
    "This notebook will walk us how to use UVCDAT to input and plot geophysical data using UVCDAT.\n",
    "\n",
    "Let's first import our UVCDAT specific libraries"
   ]
  },
  {
   "cell_type": "code",
   "execution_count": 12,
   "metadata": {},
   "outputs": [],
   "source": [
    "import cdms2     #For I/O\n",
    "import cdutil    #For data manipulation\n",
    "import genutil   #For even more data manipulation\n",
    "import vcs       #UVCDAT's plotting package"
   ]
  },
  {
   "cell_type": "markdown",
   "metadata": {},
   "source": [
    "In your directory, there should be a netcdf file with GPCP observations\n"
   ]
  },
  {
   "cell_type": "code",
   "execution_count": 13,
   "metadata": {},
   "outputs": [],
   "source": [
    "GPCP_filename='pr_GPCP_197901-200909.nc'"
   ]
  },
  {
   "cell_type": "markdown",
   "metadata": {},
   "source": [
    "Let's input that data using cdms2.open() and find out about what variables exist in the dataset"
   ]
  },
  {
   "cell_type": "code",
   "execution_count": 14,
   "metadata": {},
   "outputs": [],
   "source": [
    "f_in=cdms2.open('pr_GPCP_197901-200909.nc')\n",
    "f_in.listvariable()  #list the variables in the dataset"
   ]
  },
  {
   "cell_type": "code",
   "execution_count": 2,
   "metadata": {},
   "outputs": [],
   "source": [
    "f_in.listdimension() #list the dimensions in the dataset"
   ]
  },
  {
   "cell_type": "code",
   "execution_count": null,
   "metadata": {},
   "outputs": [],
   "source": [
    "# Try some other option yourself - there might be errors. How do we "
   ]
  },
  {
   "cell_type": "markdown",
   "metadata": {},
   "source": [
    "## Input and interogate data\n",
    "\n",
    "'pr' is the data that we want - so let's simply load that"
   ]
  },
  {
   "cell_type": "code",
   "execution_count": 15,
   "metadata": {},
   "outputs": [],
   "source": [
    "pr=f_in('pr')  #Here, the use of () loads the data. Only information of the variable is loaded if [] are used"
   ]
  },
  {
   "cell_type": "code",
   "execution_count": 3,
   "metadata": {},
   "outputs": [],
   "source": [
    "pr.shape"
   ]
  },
  {
   "cell_type": "markdown",
   "metadata": {},
   "source": [
    "What do the different dimensions pertain to?"
   ]
  },
  {
   "cell_type": "code",
   "execution_count": 4,
   "metadata": {},
   "outputs": [],
   "source": [
    "pr.listdimnames()"
   ]
  },
  {
   "cell_type": "code",
   "execution_count": 5,
   "metadata": {},
   "outputs": [],
   "source": [
    "pr.listattributes() #Query the other attributes to the data"
   ]
  },
  {
   "cell_type": "markdown",
   "metadata": {},
   "source": [
    "You can interrogate what each one is by typing pr.attributename ."
   ]
  },
  {
   "cell_type": "code",
   "execution_count": 6,
   "metadata": {},
   "outputs": [],
   "source": [
    "pr.units"
   ]
  },
  {
   "cell_type": "markdown",
   "metadata": {},
   "source": [
    "You can just get the dimension data by using pr.get..."
   ]
  },
  {
   "cell_type": "code",
   "execution_count": 10,
   "metadata": {},
   "outputs": [],
   "source": [
    "time=pr.getAxis(0)"
   ]
  },
  {
   "cell_type": "code",
   "execution_count": 7,
   "metadata": {},
   "outputs": [],
   "source": [
    "time"
   ]
  },
  {
   "cell_type": "code",
   "execution_count": 8,
   "metadata": {},
   "outputs": [],
   "source": [
    "time[0:10]"
   ]
  },
  {
   "cell_type": "markdown",
   "metadata": {},
   "source": [
    "Now, it's a bit difficult to know what each of the times represent.\n",
    "If only there were a way to get the dates for Jan 1 1995 to Dec 31 1999..."
   ]
  },
  {
   "cell_type": "code",
   "execution_count": 13,
   "metadata": {},
   "outputs": [],
   "source": [
    "pr_gpcp_19951999=f_in('pr',time=('1995-01-01','1999-12-31'))"
   ]
  },
  {
   "cell_type": "code",
   "execution_count": 9,
   "metadata": {},
   "outputs": [],
   "source": [
    "pr_gpcp_19951999.shape"
   ]
  },
  {
   "cell_type": "markdown",
   "metadata": {},
   "source": [
    "You can do the same for lat and lon.** Try experimenting it with yourself. \n",
    "\n",
    "** You don't need to write lat and lon as strings. "
   ]
  },
  {
   "cell_type": "code",
   "execution_count": null,
   "metadata": {},
   "outputs": [],
   "source": [
    "# Try inputting data from a specific region"
   ]
  },
  {
   "cell_type": "markdown",
   "metadata": {},
   "source": [
    "## Taking an average of the data\n",
    "\n",
    "Now let's take the time-mean precipitation rate for 1995 to 1999. \n",
    "\n",
    "We make use of the averager function from cdutil"
   ]
  },
  {
   "cell_type": "code",
   "execution_count": 15,
   "metadata": {},
   "outputs": [],
   "source": [
    "cdms2.setAutoBounds(1)  #Ensures that bounds to time and depth axes are generated if none exist\n",
    "pr_gpcp_19951999_timemean=cdutil.averager(pr_gpcp_19951999,axis='t')  #For the other axes, use x or y"
   ]
  },
  {
   "cell_type": "code",
   "execution_count": 11,
   "metadata": {},
   "outputs": [],
   "source": [
    "pr_gpcp_19951999_timemean.shape"
   ]
  },
  {
   "cell_type": "markdown",
   "metadata": {},
   "source": [
    "Temporal Average Pt. 2\n",
    "\n",
    "Another way of taking a time way will be to take a climatology of the YEAR. cdutil provides this capability.\n",
    "You will notice that you can also take other climatologies, like the ANNUALCYCLE, which gives you a climatological mean for each month. "
   ]
  },
  {
   "cell_type": "code",
   "execution_count": 18,
   "metadata": {},
   "outputs": [],
   "source": [
    "pr_YEAR=cdutil.YEAR.climatology(pr)\n",
    "pr_YEAR.shape"
   ]
  },
  {
   "cell_type": "code",
   "execution_count": 19,
   "metadata": {},
   "outputs": [],
   "source": [
    "pr_ANNUALCYCLE=cdutil.ANNUALCYCLE.climatology(pr)\n",
    "pr_ANNUALCYCLE.shape"
   ]
  },
  {
   "cell_type": "markdown",
   "metadata": {},
   "source": [
    "## Plot the data\n",
    "\n",
    "Now that we have the data, let's plot it.\n",
    "\n",
    "The nice thing about vcs is that it does not take much to create a quick plot. At its simplest, it takes 2 lines."
   ]
  },
  {
   "cell_type": "code",
   "execution_count": 10,
   "metadata": {},
   "outputs": [],
   "source": [
    "x=vcs.init()\n",
    "x.plot(pr_gpcp_19951999_timemean)"
   ]
  },
  {
   "cell_type": "markdown",
   "metadata": {},
   "source": [
    "The default is a box plot (similar to pcolor). If we wanted an isofill plot, we can make things a bit more complicated."
   ]
  },
  {
   "cell_type": "code",
   "execution_count": 3,
   "metadata": {},
   "outputs": [],
   "source": [
    "y=vcs.init()\n",
    "aa1=y.createisofill()\n",
    "y.plot(pr_2_timemean,aa1)"
   ]
  },
  {
   "cell_type": "code",
   "execution_count": null,
   "metadata": {},
   "outputs": [],
   "source": [
    "# Take the time mean of the region-specific data that you had created and plot it here! "
   ]
  },
  {
   "cell_type": "markdown",
   "metadata": {},
   "source": [
    "## Exercise: Input, average, and plot data\n",
    "\n",
    "Let's say you have another dataset that has precipitation from a model. See the week3 directory for another dataset that looks like model data. \n",
    "\n",
    "Let's first input the data (for 1995-01-01 to 1999-12-31),\n",
    "\n",
    "Then take the temporal average, \n",
    "\n",
    "and then plot the data below."
   ]
  },
  {
   "cell_type": "code",
   "execution_count": 20,
   "metadata": {},
   "outputs": [],
   "source": [
    "# Let's try this here"
   ]
  },
  {
   "cell_type": "markdown",
   "metadata": {},
   "source": [
    "## Regridding data\n",
    "\n",
    "You might have found that the data from this model is on a different grid as compared to the GPCP data. Now we'll go over regridding so that we can take the difference between the two plots.\n",
    "\n",
    "We will be using ESMF regridding, which is what NCL uses for its regridding.\n",
    "https://www.ncl.ucar.edu/Applications/ESMF.shtml"
   ]
  },
  {
   "cell_type": "code",
   "execution_count": 21,
   "metadata": {},
   "outputs": [],
   "source": [
    "GPCP_grid=pr_gpcp_19951999_timemean.getGrid()\n",
    "pr_NorESM_timemean_regrid=pr_NorESM_timemean.regrid(GPCP_grid,regrid_tool='esmf',regrid_method='conservative')"
   ]
  },
  {
   "cell_type": "markdown",
   "metadata": {},
   "source": [
    "## Outputing data into a netcdf\n",
    "\n",
    "Instead of having to recreate a regridded, climatological mean every single time, you might want to save the data as a netcdf file. You can use cdms2 to write the same data into a new netcdf file.\n",
    "In the steps below, we not only save the netcdf file, but also the global attributes associated with the original netcdf file. "
   ]
  },
  {
   "cell_type": "code",
   "execution_count": null,
   "metadata": {},
   "outputs": [],
   "source": [
    "outfilename='pr_timeMean_GPCP_199501-199912.nc'\n",
    "f_out=cdms2.open(outfilename,'w')\n",
    "att_keys = f_in.attributes.keys()\n",
    "att_dic = {}\n",
    "for i in range(len(att_keys)):\n",
    "    att_dic[i]=att_keys[i],f_in.attributes[att_keys[i]]\n",
    "    to_out = att_dic[i]\n",
    "    setattr(f_out,to_out[0],to_out[1])\n",
    "pr_gprpc_19951999_timemean.id='pr'      #ensure that data manipulation hasn't changed the variable id\n",
    "f_out.write(pr_gpcp_19951999_timemean)  #Write the output data\n",
    "f_out.close()"
   ]
  },
  {
   "cell_type": "markdown",
   "metadata": {},
   "source": [
    "## Plotting the difference map\n",
    "\n",
    "Now, let's create a difference plot\n",
    "\n",
    "Between the model and GPCP output. \n",
    "\n",
    "For other colorsmaps, consult here:\n",
    "https://uvcdat.llnl.gov/vcs/Jupyter/Colormap_Tutorial.html"
   ]
  },
  {
   "cell_type": "code",
   "execution_count": 24,
   "metadata": {},
   "outputs": [],
   "source": [
    "NorESM_minus_GPCP=pr_NorESM_timemean_regrid-pr_2_timemean\n",
    "NorESM_minus_GPCP=NorESM_minus_GPCP*3600.*24.  #change units from kg m-2 s-1 to mm day-1 assuming 1 kg m-2 = 1 mm\n",
    "NorESM_minus_GPCP.units='mm day-1'\n",
    "\n",
    "z=vcs.init()\n",
    "z.drawlogooff()      #turns off logo\n",
    "aa2=z.createisofill()\n",
    "Brown2bluegreen=vcs.colors.matplotlib2vcs('BrBG')\n",
    "z.setcolormap(Brown2bluegreen)  #use UVCDAT's Brown to Blue Green colormap\n",
    "levels=([-1e20,-4.,-3.,-2.,-1.,0.,1.,2.,3.,4.,1e20])\n",
    "aa2.levels=levels\n",
    "aa2.ext_1='y'   #Extension lower limit? 'y' or 'n'\n",
    "aa2.ext_2='y'   #Extend upper limit?\n",
    "z.plot(NorESM_minus_GPCP,aa2)\n",
    "\n",
    "z.pdf('NorESM_minus_GPCP')\n"
   ]
  },
  {
   "cell_type": "markdown",
   "metadata": {},
   "source": [
    "## Exercise: Take the difference between DJF and JJA in the GPCP and compare with NorESM1\n"
   ]
  },
  {
   "cell_type": "code",
   "execution_count": null,
   "metadata": {},
   "outputs": [],
   "source": [
    "#For GPCP analysis and plot"
   ]
  },
  {
   "cell_type": "code",
   "execution_count": null,
   "metadata": {},
   "outputs": [],
   "source": [
    "#For NorESM1 analysis and plot"
   ]
  }
 ],
 "metadata": {
  "kernelspec": {
   "display_name": "Python 3",
   "language": "python",
   "name": "python3"
  },
  "language_info": {
   "codemirror_mode": {
    "name": "ipython",
    "version": 3
   },
   "file_extension": ".py",
   "mimetype": "text/x-python",
   "name": "python",
   "nbconvert_exporter": "python",
   "pygments_lexer": "ipython3",
   "version": "3.6.4"
  }
 },
 "nbformat": 4,
 "nbformat_minor": 2
}
