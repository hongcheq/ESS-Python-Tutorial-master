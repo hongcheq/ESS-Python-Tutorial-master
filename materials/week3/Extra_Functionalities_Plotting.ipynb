{
 "cells": [
  {
   "cell_type": "markdown",
   "metadata": {},
   "source": [
    "## Extra plotting exercise\n",
    "\n",
    "Here we'll build on what was done beforehand and create a two panel plot that overlays two sets of information per map. We'll also look at one extra functionality about UVCDAT, which makes it very useful to use. "
   ]
  },
  {
   "cell_type": "markdown",
   "metadata": {},
   "source": [
    "## cdscan\n",
    "\n",
    "Sometimes the same variable you want to analyze is distributed across multiple datasets, each NetCDF file with a different timestamp. Loading the data from each dataset might seem like a chore. With cdscan, you can quickly create an .xml file which points to the appropriate data in your netcdf files. You can then treat the .xml file as if it is one NetCDF file and use cdms2.open to open and access the data.\n",
    "\n",
    "cdscan is a functionality of UVCDAT that you can call outside of the python environment if you have the your UVCDAT environment activated. \n",
    "https://uvcdat.llnl.gov/documentation/cdms/cdms_7.html\n",
    "\n",
    "In the week3 directory you will notice that there are two climate model data with tas (surface air temperature). Let's create an xml file that combines the data from the two datasets.\n",
    "\n",
    "First open a new terminal windown and activate the UVCDAT environment. Then run the following command. \n",
    "\n",
    "cdscan -x tas_Amon_GFDL-CM3_amip_r1i1p1_197901-198812.xml tas*.nc\n",
    "\n",
    "This should create the .xml file tas_Amon_GFDL-CM3_amip_r1i1p1_197901-198812.xml "
   ]
  },
  {
   "cell_type": "code",
   "execution_count": 5,
   "metadata": {},
   "outputs": [],
   "source": [
    "import cdms2\n",
    "import cdutil\n",
    "f_in=cdms2.open('tas_Amon_GFDL-CM3_amip_r1i1p1_197901-198812.xml')\n"
   ]
  },
  {
   "cell_type": "code",
   "execution_count": 6,
   "metadata": {},
   "outputs": [],
   "source": [
    "tas=f_in('tas',time=('1980-01-01','1985-12-31'))"
   ]
  },
  {
   "cell_type": "code",
   "execution_count": 19,
   "metadata": {},
   "outputs": [],
   "source": [
    "# Test out different attribues here\n",
    "# E.g. tas.shape"
   ]
  },
  {
   "cell_type": "markdown",
   "metadata": {},
   "source": [
    "## Plotting (multi-panel and contour overlay)\n",
    "\n",
    "Now let's take climatologies of DJF and JJA and take the difference, while also overlaying contours annual mean values.\n",
    "\n",
    "First, let's take the climatologies:"
   ]
  },
  {
   "cell_type": "code",
   "execution_count": 9,
   "metadata": {},
   "outputs": [],
   "source": [
    "# Calculate the DJF and JJA climatologies here. Consult previous notebook for how...\n",
    "tas_DJF=\n",
    "tas_JJA="
   ]
  },
  {
   "cell_type": "code",
   "execution_count": 10,
   "metadata": {},
   "outputs": [],
   "source": [
    "JJA_minus_DJF_tas=tas_JJA-tas_DJF   # This gives us the difference\n",
    "JJA_minus_DJF.id='tas_difference'   # Name the variable something meaningful"
   ]
  },
  {
   "cell_type": "code",
   "execution_count": 11,
   "metadata": {},
   "outputs": [],
   "source": [
    "# Calculate the Annual mean climatology here. \n",
    "tas_YEAR="
   ]
  },
  {
   "cell_type": "markdown",
   "metadata": {},
   "source": [
    "Now let's make the two panel plot. Top plot will be of annual mean surface temperature and then the bottom plot will be of JJA minus DJF, with an overlay of annual mean surface temperature:"
   ]
  },
  {
   "cell_type": "code",
   "execution_count": 20,
   "metadata": {},
   "outputs": [
    {
     "data": {
      "text/plain": [
       "'\\nx=vcs.init()\\nM=EzTemplate.Multi(rows=2,columns=1)\\n#M.x.setbgoutputdimensions(1700,1212,units=\"pixels\")  #you can set the output dimensions\\nx.drawlogooff()\\nx.setcolormap(\\'bl_to_darkred\\')\\nM.legend.direction=\\'vertical\\'\\nM.margins.top=0.05\\nM.margins.bottom=0.05\\nM.margins.left=0.25\\nM.margins.right=0.25\\nM.spacing.vertical=0.1\\nt=M.get(legend=\\'local\\')\\naa1=x.createisofill()\\nlevels=[-1e20,253,258,263,268,273,278,283,288,293,298,303,1e20]\\naa1.levels=levels\\ncols1=vcs.getcolors(levels, range(11,239, 1))\\n#cols1=vcs.getcolors(levels, range(239, 11, -1))  #you can flip the colormap this way\\naa1.fillareacolors=cols1\\naa1.ext_1=\\'y\\'\\naa1.ext_2=\\'y\\'\\nx.plot(tas_YEAR,t,aa1)   #plot tas_YEAR in template t, and isofill plot aa1\\n#start second panel\\nt=M.get(legend=\\'local\\')\\naa2=x.createisofill()\\nlevels=[-1e20,-24,-20,-16,-12,-8,-4,-2,0,2,4,8,12,16,20,24,1e20]\\ncols1=vcs.getcolors(levels, range(11,239, 1))\\n#cols1=vcs.getcolors(levels, range(239, 11, -1))  #you can flip the colormap this way\\naa2.levels=levels\\naa2.fillareacolors =cols1\\naa2.ext_1=\\'y\\'\\naa2.ext_2=\\'y\\'\\nx.plot(JJA_minus_DJF_tas,t,aa2)\\n#now overlay contours\\naa1b=x.createisoline()\\nlevelsb=[253,263,273,283,293]  #contour every 10K\\naa1b.levels=levelsb\\naa1b.label = \\'y\\'    #add labels to contours\\nt2=t                #copy the same template \\nt2.min.priority=0   #but turn off many of the labels so that they don\\'t overwrite on top of each other\\nt2.max.priority=0\\nt2.mean.priority=0\\nt2.dataname.priority=0\\nt2.title.priority=0\\nt2.xlabel1.priority=0\\nt2.ylabel1.priority=0\\nt2.units.priority=0\\nx.plot(tas_YEAR,t2,aa1b)\\n'"
      ]
     },
     "execution_count": 20,
     "metadata": {},
     "output_type": "execute_result"
    }
   ],
   "source": [
    "import vcs\n",
    "import EzTemplate #for multi-panel plotting\n",
    "\n",
    "\n",
    "x=vcs.init()\n",
    "M=EzTemplate.Multi(rows=2,columns=1)\n",
    "#M.x.setbgoutputdimensions(1700,1212,units=\"pixels\")  #you can set the output dimensions\n",
    "x.drawlogooff()\n",
    "x.setcolormap('bl_to_darkred')\n",
    "M.legend.direction='vertical'\n",
    "M.margins.top=0.05\n",
    "M.margins.bottom=0.05\n",
    "M.margins.left=0.25\n",
    "M.margins.right=0.25\n",
    "M.spacing.vertical=0.1\n",
    "t=M.get(legend='local')\n",
    "aa1=x.createisofill()\n",
    "levels=[-1e20,253,258,263,268,273,278,283,288,293,298,303,1e20]\n",
    "aa1.levels=levels\n",
    "cols1=vcs.getcolors(levels, range(11,239, 1))\n",
    "#cols1=vcs.getcolors(levels, range(239, 11, -1))  #you can flip the colormap this way\n",
    "aa1.fillareacolors=cols1\n",
    "aa1.ext_1='y'\n",
    "aa1.ext_2='y'\n",
    "x.plot(tas_YEAR,t,aa1)   #plot tas_YEAR in template t, and isofill plot aa1\n",
    "#start second panel\n",
    "t=M.get(legend='local')\n",
    "aa2=x.createisofill()\n",
    "levels=[-1e20,-24,-20,-16,-12,-8,-4,-2,0,2,4,8,12,16,20,24,1e20]\n",
    "cols1=vcs.getcolors(levels, range(11,239, 1))\n",
    "#cols1=vcs.getcolors(levels, range(239, 11, -1))  #you can flip the colormap this way\n",
    "aa2.levels=levels\n",
    "aa2.fillareacolors =cols1\n",
    "aa2.ext_1='y'\n",
    "aa2.ext_2='y'\n",
    "x.plot(JJA_minus_DJF_tas,t,aa2)\n",
    "#now overlay contours\n",
    "aa1b=x.createisoline()\n",
    "levelsb=[253,263,273,283,293]  #contour every 10K\n",
    "aa1b.levels=levelsb\n",
    "aa1b.label = 'y'    #add labels to contours\n",
    "t2=t                #copy the same template \n",
    "t2.min.priority=0   #but turn off many of the labels so that they don't overwrite on top of each other\n",
    "t2.max.priority=0\n",
    "t2.mean.priority=0\n",
    "t2.dataname.priority=0\n",
    "t2.title.priority=0\n",
    "t2.xlabel1.priority=0\n",
    "t2.ylabel1.priority=0\n",
    "t2.units.priority=0\n",
    "x.plot(tas_YEAR,t2,aa1b)\n",
    "\n"
   ]
  },
  {
   "cell_type": "code",
   "execution_count": null,
   "metadata": {},
   "outputs": [],
   "source": []
  }
 ],
 "metadata": {
  "kernelspec": {
   "display_name": "Python 3",
   "language": "python",
   "name": "python3"
  },
  "language_info": {
   "codemirror_mode": {
    "name": "ipython",
    "version": 3
   },
   "file_extension": ".py",
   "mimetype": "text/x-python",
   "name": "python",
   "nbconvert_exporter": "python",
   "pygments_lexer": "ipython3",
   "version": "3.6.4"
  }
 },
 "nbformat": 4,
 "nbformat_minor": 2
}
