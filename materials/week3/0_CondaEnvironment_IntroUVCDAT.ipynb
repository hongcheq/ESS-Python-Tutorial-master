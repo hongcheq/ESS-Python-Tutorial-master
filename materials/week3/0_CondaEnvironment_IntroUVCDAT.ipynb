{
 "cells": [
  {
   "cell_type": "markdown",
   "metadata": {},
   "source": [
    "## Changing python environments and UVCDAT as a tool\n",
    "\n",
    "This section will focus on switching between different conda environments to load different modules within python.\n",
    "\n",
    "By the end of the session, we will have\n",
    "\n",
    "$\\centerdot$ activated the UVCDAT environment.\n",
    "\n",
    "$\\centerdot$ input data from a netcdf file with geophysical data.\n",
    "\n",
    "$\\centerdot$ calculated a climatology of the data.\n",
    "\n",
    "$\\centerdot$ plotted a map of the data. \n",
    "\n",
    "\n",
    "If we have time, we will:\n",
    "\n",
    "$\\centerdot$ regrid the data onto the grid of another dataset.\n",
    "\n",
    "$\\centerdot$ output the regridded data into a new netcdf file."
   ]
  },
  {
   "cell_type": "markdown",
   "metadata": {},
   "source": [
    "## Step 1) Making sure UVCDAT environment is activated\n",
    "\n",
    "By now, you should have switched your environment to the python 2 uvcdat environment. If not, you will need to exit this python notebook and then follow the following steps.\n",
    "\n",
    "1) Type in the command:\n",
    "\n",
    "conda env list\n",
    "\n",
    "This will show the environments that you have on your computer. In my case, the UVCDAT environment is called myuvcdat. \n",
    "\n",
    "2) To activate the UVCDAT environment, type:\n",
    "\n",
    "source activate myuvcdat \n",
    "\n",
    "This will activate your python2 UVCDAT environment.\n",
    "\n",
    "3) We need to install a new version of the package six. Type:\n",
    "\n",
    "conda install six\n",
    "\n",
    "4) Open up this jupyter notebook again.\n",
    "\n",
    "Now, the following prompt should not create an error:\n"
   ]
  },
  {
   "cell_type": "code",
   "execution_count": 1,
   "metadata": {},
   "outputs": [],
   "source": [
    "import cdms2\n",
    "import cdutil\n",
    "import genutil\n",
    "import matplotlib"
   ]
  },
  {
   "cell_type": "markdown",
   "metadata": {},
   "source": [
    "cdms is a package with functions that are specialized for organizing multidimensional, gridded data used in climate analysis and simulation. Many of the functions here are useful for input and output of geophysical datasets.\n",
    "\n",
    "UVCDAT also has a number of packages (utilities) that allow users to manipulate the data.\n",
    "\n",
    "cdutil is a package that is useful for doing spatial and temporal averages. It also has functions that allow simple ways to calculate monthly climatologies.\n",
    "\n",
    "genutil is a package that includes many statistical functions that you might want to perform on the data. \n",
    "\n",
    "More details about the utilities can be found at this link: https://uvcdat.llnl.gov/documentation/utilities/utilities.html"
   ]
  },
  {
   "cell_type": "markdown",
   "metadata": {},
   "source": [
    "## Today's plan\n",
    "\n",
    "Initial setup (5 min)\n",
    "\n",
    "Simple plotting in matplotlib and input/output from .mat file (15 min)\n",
    "\n",
    "Intro to UVCDAT, inputting variables, and interrogating variables from NetCDF files (10 min)\n",
    "\n",
    "Taking time-averages and creating plots of geophysical data (15 min)\n",
    "\n",
    "Regridding data and outputting data into NetCDF files (10 min)\n",
    "\n",
    "Final exercise (5 min)"
   ]
  }
 ],
 "metadata": {
  "kernelspec": {
   "display_name": "Python 3",
   "language": "python",
   "name": "python3"
  },
  "language_info": {
   "codemirror_mode": {
    "name": "ipython",
    "version": 3
   },
   "file_extension": ".py",
   "mimetype": "text/x-python",
   "name": "python",
   "nbconvert_exporter": "python",
   "pygments_lexer": "ipython3",
   "version": "3.6.4"
  }
 },
 "nbformat": 4,
 "nbformat_minor": 2
}
